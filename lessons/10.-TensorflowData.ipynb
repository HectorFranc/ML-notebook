{
  "nbformat": 4,
  "nbformat_minor": 0,
  "metadata": {
    "colab": {
      "name": "TensorflowData.ipynb",
      "provenance": [],
      "collapsed_sections": [],
      "authorship_tag": "ABX9TyM/cEp9DP6scXrsYrrbRyo1"
    },
    "kernelspec": {
      "name": "python3",
      "display_name": "Python 3"
    }
  },
  "cells": [
    {
      "cell_type": "code",
      "metadata": {
        "id": "ElPMWAv_7_p5",
        "colab_type": "code",
        "colab": {}
      },
      "source": [
        "import tensorflow as tf\n",
        "from tensorflow import keras\n",
        "import matplotlib.pyplot as plt\n",
        "import numpy as np"
      ],
      "execution_count": 1,
      "outputs": []
    },
    {
      "cell_type": "markdown",
      "metadata": {
        "id": "RvwQ99ArAcL5",
        "colab_type": "text"
      },
      "source": [
        "# Datasets"
      ]
    },
    {
      "cell_type": "code",
      "metadata": {
        "id": "SlQ-aCw48N1y",
        "colab_type": "code",
        "colab": {
          "base_uri": "https://localhost:8080/",
          "height": 36
        },
        "outputId": "15340f65-b788-45ad-8fec-892bdbe80fa8"
      },
      "source": [
        "X = tf.range(10)\n",
        "dataset = tf.data.Dataset.from_tensor_slices(X) # == tf.data.Dataset.range(10)\n",
        "dataset"
      ],
      "execution_count": 2,
      "outputs": [
        {
          "output_type": "execute_result",
          "data": {
            "text/plain": [
              "<TensorSliceDataset shapes: (), types: tf.int32>"
            ]
          },
          "metadata": {
            "tags": []
          },
          "execution_count": 2
        }
      ]
    },
    {
      "cell_type": "code",
      "metadata": {
        "id": "wh-_Q46KAaEk",
        "colab_type": "code",
        "colab": {
          "base_uri": "https://localhost:8080/",
          "height": 207
        },
        "outputId": "0088e8b4-3797-4ca3-be23-ba2e9c19aeff"
      },
      "source": [
        "for item in dataset:\n",
        "    print(item)"
      ],
      "execution_count": 3,
      "outputs": [
        {
          "output_type": "stream",
          "text": [
            "tf.Tensor(0, shape=(), dtype=int32)\n",
            "tf.Tensor(1, shape=(), dtype=int32)\n",
            "tf.Tensor(2, shape=(), dtype=int32)\n",
            "tf.Tensor(3, shape=(), dtype=int32)\n",
            "tf.Tensor(4, shape=(), dtype=int32)\n",
            "tf.Tensor(5, shape=(), dtype=int32)\n",
            "tf.Tensor(6, shape=(), dtype=int32)\n",
            "tf.Tensor(7, shape=(), dtype=int32)\n",
            "tf.Tensor(8, shape=(), dtype=int32)\n",
            "tf.Tensor(9, shape=(), dtype=int32)\n"
          ],
          "name": "stdout"
        }
      ]
    },
    {
      "cell_type": "markdown",
      "metadata": {
        "id": "ElRgiqNzHAkm",
        "colab_type": "text"
      },
      "source": [
        "### Transformations"
      ]
    },
    {
      "cell_type": "code",
      "metadata": {
        "id": "UJ6qv02uCi18",
        "colab_type": "code",
        "colab": {
          "base_uri": "https://localhost:8080/",
          "height": 112
        },
        "outputId": "9a6e9f7d-9884-40b6-9799-052e5a7a4ca9"
      },
      "source": [
        "dataset = dataset.repeat(3).batch(7)\n",
        "for item in dataset:\n",
        "    print(item)"
      ],
      "execution_count": 4,
      "outputs": [
        {
          "output_type": "stream",
          "text": [
            "tf.Tensor([0 1 2 3 4 5 6], shape=(7,), dtype=int32)\n",
            "tf.Tensor([7 8 9 0 1 2 3], shape=(7,), dtype=int32)\n",
            "tf.Tensor([4 5 6 7 8 9 0], shape=(7,), dtype=int32)\n",
            "tf.Tensor([1 2 3 4 5 6 7], shape=(7,), dtype=int32)\n",
            "tf.Tensor([8 9], shape=(2,), dtype=int32)\n"
          ],
          "name": "stdout"
        }
      ]
    },
    {
      "cell_type": "code",
      "metadata": {
        "id": "H8XskPCKIEN0",
        "colab_type": "code",
        "colab": {}
      },
      "source": [
        "dataset = dataset.map(lambda x: 2*x, num_parallel_calls=2)\n",
        "dataset = dataset.apply(tf.data.Dataset.unbatch) # == dataset.unbatch()\n",
        "dataset = dataset.filter(lambda x: x < 10)"
      ],
      "execution_count": 5,
      "outputs": []
    },
    {
      "cell_type": "code",
      "metadata": {
        "id": "q3hDxNRsQ-ra",
        "colab_type": "code",
        "colab": {
          "base_uri": "https://localhost:8080/",
          "height": 74
        },
        "outputId": "4559cbe7-169b-465f-eed2-1b3fc23874bd"
      },
      "source": [
        "for item in dataset.take(3):\n",
        "    print(item)"
      ],
      "execution_count": 6,
      "outputs": [
        {
          "output_type": "stream",
          "text": [
            "tf.Tensor(0, shape=(), dtype=int32)\n",
            "tf.Tensor(2, shape=(), dtype=int32)\n",
            "tf.Tensor(4, shape=(), dtype=int32)\n"
          ],
          "name": "stdout"
        }
      ]
    },
    {
      "cell_type": "markdown",
      "metadata": {
        "id": "30ry04EbXil3",
        "colab_type": "text"
      },
      "source": [
        "### Shuffling"
      ]
    },
    {
      "cell_type": "code",
      "metadata": {
        "id": "K_zLfI0GTKFk",
        "colab_type": "code",
        "colab": {
          "base_uri": "https://localhost:8080/",
          "height": 112
        },
        "outputId": "aa0122d7-af5f-4de0-a2c9-edd8fbddb404"
      },
      "source": [
        "dataset = tf.data.Dataset.range(10).repeat(3)\n",
        "dataset = dataset.shuffle(buffer_size=5, seed=42).batch(7)\n",
        "\n",
        "for item in dataset:\n",
        "    print(item)"
      ],
      "execution_count": 7,
      "outputs": [
        {
          "output_type": "stream",
          "text": [
            "tf.Tensor([0 2 3 6 7 9 4], shape=(7,), dtype=int64)\n",
            "tf.Tensor([5 0 1 1 8 6 5], shape=(7,), dtype=int64)\n",
            "tf.Tensor([4 8 7 1 2 3 0], shape=(7,), dtype=int64)\n",
            "tf.Tensor([5 4 2 7 8 9 9], shape=(7,), dtype=int64)\n",
            "tf.Tensor([3 6], shape=(2,), dtype=int64)\n"
          ],
          "name": "stdout"
        }
      ]
    },
    {
      "cell_type": "markdown",
      "metadata": {
        "id": "MVsgfn_1aVsQ",
        "colab_type": "text"
      },
      "source": [
        "##### Multiple Files"
      ]
    },
    {
      "cell_type": "markdown",
      "metadata": {
        "id": "VTRvfL-zdcyw",
        "colab_type": "text"
      },
      "source": [
        "**Data example**"
      ]
    },
    {
      "cell_type": "code",
      "metadata": {
        "id": "Z6fw7yqCYbT_",
        "colab_type": "code",
        "colab": {
          "base_uri": "https://localhost:8080/",
          "height": 36
        },
        "outputId": "59c1d045-2b2b-47fe-c091-bcea076c116f"
      },
      "source": [
        "from sklearn.datasets import fetch_california_housing\n",
        "from sklearn.model_selection import train_test_split\n",
        "from sklearn.preprocessing import StandardScaler\n",
        "import os\n",
        "\n",
        "housing = fetch_california_housing()\n",
        "X_train_full, X_test, y_train_full, y_test = train_test_split(\n",
        "    housing.data, housing.target.reshape(-1, 1), random_state=42)\n",
        "X_train, X_valid, y_train, y_valid = train_test_split(\n",
        "    X_train_full, y_train_full, random_state=42)\n",
        "\n",
        "scaler = StandardScaler()\n",
        "scaler.fit(X_train)\n",
        "X_mean = scaler.mean_\n",
        "X_std = scaler.scale_\n",
        "\n",
        "def save_to_multiple_csv_files(data, name_prefix, header=None, n_parts=10):\n",
        "    housing_dir = os.path.join(\"datasets\", \"housing\")\n",
        "    os.makedirs(housing_dir, exist_ok=True)\n",
        "    path_format = os.path.join(housing_dir, \"my_{}_{:02d}.csv\")\n",
        "\n",
        "    filepaths = []\n",
        "    m = len(data)\n",
        "    for file_idx, row_indices in enumerate(np.array_split(np.arange(m), n_parts)):\n",
        "        part_csv = path_format.format(name_prefix, file_idx)\n",
        "        filepaths.append(part_csv)\n",
        "        with open(part_csv, \"wt\", encoding=\"utf-8\") as f:\n",
        "            if header is not None:\n",
        "                f.write(header)\n",
        "                f.write(\"\\n\")\n",
        "            for row_idx in row_indices:\n",
        "                f.write(\",\".join([repr(col) for col in data[row_idx]]))\n",
        "                f.write(\"\\n\")\n",
        "    return filepaths\n",
        "\n",
        "train_data = np.c_[X_train, y_train]\n",
        "valid_data = np.c_[X_valid, y_valid]\n",
        "test_data = np.c_[X_test, y_test]\n",
        "header_cols = housing.feature_names + [\"MedianHouseValue\"]\n",
        "header = \",\".join(header_cols)\n",
        "\n",
        "train_filepaths = save_to_multiple_csv_files(train_data, \"train\", header, n_parts=20)\n",
        "valid_filepaths = save_to_multiple_csv_files(valid_data, \"valid\", header, n_parts=10)\n",
        "test_filepaths = save_to_multiple_csv_files(test_data, \"test\", header, n_parts=10)"
      ],
      "execution_count": 8,
      "outputs": [
        {
          "output_type": "stream",
          "text": [
            "Downloading Cal. housing from https://ndownloader.figshare.com/files/5976036 to /root/scikit_learn_data\n"
          ],
          "name": "stderr"
        }
      ]
    },
    {
      "cell_type": "markdown",
      "metadata": {
        "id": "EsUyAj1SdgYW",
        "colab_type": "text"
      },
      "source": [
        "**Pipeline**"
      ]
    },
    {
      "cell_type": "code",
      "metadata": {
        "id": "fcnqrg-sa_YJ",
        "colab_type": "code",
        "colab": {}
      },
      "source": [
        "filepath_dataset = tf.data.Dataset.list_files(train_filepaths, seed=42)"
      ],
      "execution_count": 9,
      "outputs": []
    },
    {
      "cell_type": "code",
      "metadata": {
        "id": "tttwwtnreaJE",
        "colab_type": "code",
        "colab": {}
      },
      "source": [
        "n_readers = 5\n",
        "dataset = filepath_dataset.interleave(\n",
        "    lambda filepath: tf.data.TextLineDataset(filepath).skip(1),\n",
        "    cycle_length=n_readers,\n",
        "    num_parallel_calls=2\n",
        ")"
      ],
      "execution_count": 10,
      "outputs": []
    },
    {
      "cell_type": "code",
      "metadata": {
        "id": "iKG04cyMfSK0",
        "colab_type": "code",
        "colab": {
          "base_uri": "https://localhost:8080/",
          "height": 112
        },
        "outputId": "c057ef71-e650-49c5-c864-460cb856fb81"
      },
      "source": [
        "for line in dataset.take(5):\n",
        "    print(line.numpy())"
      ],
      "execution_count": 11,
      "outputs": [
        {
          "output_type": "stream",
          "text": [
            "b'4.2083,44.0,5.323204419889502,0.9171270718232044,846.0,2.3370165745856353,37.47,-122.2,2.782'\n",
            "b'4.1812,52.0,5.701388888888889,0.9965277777777778,692.0,2.4027777777777777,33.73,-118.31,3.215'\n",
            "b'3.6875,44.0,4.524475524475524,0.993006993006993,457.0,3.195804195804196,34.04,-118.15,1.625'\n",
            "b'3.3456,37.0,4.514084507042254,0.9084507042253521,458.0,3.2253521126760565,36.67,-121.7,2.526'\n",
            "b'3.5214,15.0,3.0499445061043287,1.106548279689234,1447.0,1.6059933407325193,37.63,-122.43,1.442'\n"
          ],
          "name": "stdout"
        }
      ]
    },
    {
      "cell_type": "markdown",
      "metadata": {
        "id": "dcB8ihqOhOp4",
        "colab_type": "text"
      },
      "source": [
        "### Preprocessing Data"
      ]
    },
    {
      "cell_type": "code",
      "metadata": {
        "id": "xnW_LLpxhGib",
        "colab_type": "code",
        "colab": {}
      },
      "source": [
        "n_inputs = 8\n",
        "\n",
        "@tf.function\n",
        "def preprocess(line):\n",
        "    defs = [0.0] * n_inputs + [tf.constant([], dtype=tf.float32)]\n",
        "    fields = tf.io.decode_csv(line, record_defaults=defs)\n",
        "    x = tf.stack(fields[:-1])\n",
        "    y = tf.stack(fields[-1:])\n",
        "    return (x - X_mean) / X_std, y"
      ],
      "execution_count": 12,
      "outputs": []
    },
    {
      "cell_type": "code",
      "metadata": {
        "id": "ZFkgvy4VCwV4",
        "colab_type": "code",
        "colab": {
          "base_uri": "https://localhost:8080/",
          "height": 93
        },
        "outputId": "418f8e58-ebd4-4037-edea-978874478bd2"
      },
      "source": [
        "preprocess(b'4.2083,44.0,5.3232,0.9171,846.0,2.3370,37.47,-122.2,2.782')"
      ],
      "execution_count": 13,
      "outputs": [
        {
          "output_type": "execute_result",
          "data": {
            "text/plain": [
              "(<tf.Tensor: shape=(8,), dtype=float32, numpy=\n",
              " array([ 0.16579157,  1.216324  , -0.05204565, -0.39215982, -0.5277444 ,\n",
              "        -0.2633488 ,  0.8543046 , -1.3072058 ], dtype=float32)>,\n",
              " <tf.Tensor: shape=(1,), dtype=float32, numpy=array([2.782], dtype=float32)>)"
            ]
          },
          "metadata": {
            "tags": []
          },
          "execution_count": 13
        }
      ]
    },
    {
      "cell_type": "markdown",
      "metadata": {
        "id": "2I_nqB-jNhv6",
        "colab_type": "text"
      },
      "source": [
        "### My pipeline"
      ]
    },
    {
      "cell_type": "code",
      "metadata": {
        "id": "3frOeyf0D9-Z",
        "colab_type": "code",
        "colab": {}
      },
      "source": [
        "def csv_reader_dataset(filepaths, repeat=1, n_readers=5,\n",
        "                       n_read_threads=None, shuffle_buffer_size=10000,\n",
        "                       n_parse_threads=5, batch_size=32):\n",
        "    dataset = tf.data.Dataset.list_files(filepaths).repeat(repeat)\n",
        "    dataset = dataset.interleave(\n",
        "        lambda filepath: tf.data.TextLineDataset(filepath).skip(1),\n",
        "        cycle_length=n_readers,\n",
        "        num_parallel_calls=n_read_threads\n",
        "    )\n",
        "    dataset = dataset.shuffle(shuffle_buffer_size)\n",
        "    dataset = dataset.map(preprocess, num_parallel_calls=n_parse_threads)\n",
        "    dataset = dataset.batch(batch_size)\n",
        "    return dataset.prefetch(1) # Always will be one batch ahead"
      ],
      "execution_count": 14,
      "outputs": []
    },
    {
      "cell_type": "markdown",
      "metadata": {
        "id": "sgAoEv3DLD5k",
        "colab_type": "text"
      },
      "source": [
        "## Using Datasets"
      ]
    },
    {
      "cell_type": "code",
      "metadata": {
        "id": "fvOFJGsGCSdX",
        "colab_type": "code",
        "colab": {}
      },
      "source": [
        "train_set = csv_reader_dataset(train_filepaths, repeat=None)\n",
        "valid_set = csv_reader_dataset(valid_filepaths)\n",
        "test_set = csv_reader_dataset(test_filepaths)"
      ],
      "execution_count": 15,
      "outputs": []
    },
    {
      "cell_type": "code",
      "metadata": {
        "id": "ShP-ZbMyNJIx",
        "colab_type": "code",
        "colab": {
          "base_uri": "https://localhost:8080/",
          "height": 416
        },
        "outputId": "11816c73-2eff-43c5-a2c1-892f8d9bfbe8"
      },
      "source": [
        "keras.backend.clear_session()\n",
        "np.random.seed(42)\n",
        "tf.random.set_seed(42)\n",
        "\n",
        "model = keras.models.Sequential([\n",
        "    keras.layers.Dense(30, activation=\"relu\", input_shape=X_train.shape[1:]),\n",
        "    keras.layers.Dense(1),\n",
        "])\n",
        "model.compile(loss=\"mse\", optimizer=keras.optimizers.SGD(lr=1e-3))\n",
        "\n",
        "batch_size = 32\n",
        "model.fit(train_set, steps_per_epoch=len(X_train) // batch_size, epochs=10,\n",
        "          validation_data=valid_set)"
      ],
      "execution_count": 16,
      "outputs": [
        {
          "output_type": "stream",
          "text": [
            "Epoch 1/10\n",
            "362/362 [==============================] - 1s 3ms/step - loss: 1.6396 - val_loss: 0.9007\n",
            "Epoch 2/10\n",
            "362/362 [==============================] - 1s 2ms/step - loss: 0.7167 - val_loss: 0.6812\n",
            "Epoch 3/10\n",
            "362/362 [==============================] - 1s 2ms/step - loss: 0.6300 - val_loss: 0.6103\n",
            "Epoch 4/10\n",
            "362/362 [==============================] - 1s 2ms/step - loss: 0.5921 - val_loss: 0.5622\n",
            "Epoch 5/10\n",
            "362/362 [==============================] - 1s 2ms/step - loss: 0.5875 - val_loss: 0.5674\n",
            "Epoch 6/10\n",
            "362/362 [==============================] - 1s 2ms/step - loss: 0.5506 - val_loss: 0.5200\n",
            "Epoch 7/10\n",
            "362/362 [==============================] - 1s 2ms/step - loss: 0.5148 - val_loss: 0.5303\n",
            "Epoch 8/10\n",
            "362/362 [==============================] - 1s 2ms/step - loss: 0.5049 - val_loss: 0.4819\n",
            "Epoch 9/10\n",
            "362/362 [==============================] - 1s 2ms/step - loss: 0.5054 - val_loss: 0.4695\n",
            "Epoch 10/10\n",
            "362/362 [==============================] - 1s 2ms/step - loss: 0.4853 - val_loss: 0.4609\n"
          ],
          "name": "stdout"
        },
        {
          "output_type": "execute_result",
          "data": {
            "text/plain": [
              "<tensorflow.python.keras.callbacks.History at 0x7fb8c08d7978>"
            ]
          },
          "metadata": {
            "tags": []
          },
          "execution_count": 16
        }
      ]
    },
    {
      "cell_type": "code",
      "metadata": {
        "id": "Vd7irwvFO3eC",
        "colab_type": "code",
        "colab": {
          "base_uri": "https://localhost:8080/",
          "height": 55
        },
        "outputId": "1fa79398-7361-4b3f-d4bd-77556ff5749b"
      },
      "source": [
        "model.evaluate(test_set, steps=len(X_test) // batch_size)"
      ],
      "execution_count": 17,
      "outputs": [
        {
          "output_type": "stream",
          "text": [
            "161/161 [==============================] - 0s 2ms/step - loss: 0.4779\n"
          ],
          "name": "stdout"
        },
        {
          "output_type": "execute_result",
          "data": {
            "text/plain": [
              "0.47788968682289124"
            ]
          },
          "metadata": {
            "tags": []
          },
          "execution_count": 17
        }
      ]
    },
    {
      "cell_type": "markdown",
      "metadata": {
        "id": "s_15nQarSLfX",
        "colab_type": "text"
      },
      "source": [
        "# TFRecord Format"
      ]
    },
    {
      "cell_type": "code",
      "metadata": {
        "id": "IQ_NB2jMQC8P",
        "colab_type": "code",
        "colab": {
          "base_uri": "https://localhost:8080/",
          "height": 55
        },
        "outputId": "3558b196-0875-44c8-9b28-c31623058381"
      },
      "source": [
        "# Write\n",
        "options = tf.io.TFRecordOptions(compression_type='GZIP')\n",
        "with tf.io.TFRecordWriter('my_data.tfrecord', options) as f:\n",
        "    f.write(b'Hello, world')\n",
        "    f.write(b'Hello, world 2')\n",
        "\n",
        "# Read\n",
        "filepaths = ['my_data.tfrecord']\n",
        "dataset = tf.data.TFRecordDataset(filepaths, compression_type='GZIP')\n",
        "\n",
        "# Show\n",
        "for item in dataset:\n",
        "    print(item)"
      ],
      "execution_count": 18,
      "outputs": [
        {
          "output_type": "stream",
          "text": [
            "tf.Tensor(b'Hello, world', shape=(), dtype=string)\n",
            "tf.Tensor(b'Hello, world 2', shape=(), dtype=string)\n"
          ],
          "name": "stdout"
        }
      ]
    },
    {
      "cell_type": "markdown",
      "metadata": {
        "id": "tN-bdqdBeEfH",
        "colab_type": "text"
      },
      "source": [
        "## Tensorflow Protobufs"
      ]
    },
    {
      "cell_type": "markdown",
      "metadata": {
        "id": "SAUAjBgEuyuv",
        "colab_type": "text"
      },
      "source": [
        "### Example()"
      ]
    },
    {
      "cell_type": "code",
      "metadata": {
        "id": "TetDlDFZTCDi",
        "colab_type": "code",
        "colab": {
          "base_uri": "https://localhost:8080/",
          "height": 55
        },
        "outputId": "fb64d101-8eb8-4b55-97e6-a04397ecd274"
      },
      "source": [
        "from tensorflow.train import (\n",
        "    BytesList, FloatList, Int64List,\n",
        "    Feature, Features, Example\n",
        ")\n",
        "\n",
        "person_example = Example(\n",
        "    features=Features(\n",
        "        feature={\n",
        "            'name': Feature(bytes_list=BytesList(value=[b'Alice'])),\n",
        "            'id': Feature(int64_list=Int64List(value=[123])),\n",
        "            'emails': Feature(bytes_list=BytesList(value=[b'a@a.com', b'b@b.com']))\n",
        "        }\n",
        "    )\n",
        ")\n",
        "\n",
        "s = person_example.SerializeToString()\n",
        "print(s)\n",
        "person_2 = Example()\n",
        "person_2.ParseFromString(s)\n",
        "print(person_2 == person_example)"
      ],
      "execution_count": 19,
      "outputs": [
        {
          "output_type": "stream",
          "text": [
            "b'\\n@\\n\\x0b\\n\\x02id\\x12\\x05\\x1a\\x03\\n\\x01{\\n\\x1e\\n\\x06emails\\x12\\x14\\n\\x12\\n\\x07a@a.com\\n\\x07b@b.com\\n\\x11\\n\\x04name\\x12\\t\\n\\x07\\n\\x05Alice'\n",
            "True\n"
          ],
          "name": "stdout"
        }
      ]
    },
    {
      "cell_type": "code",
      "metadata": {
        "id": "SqjPvItaf6-J",
        "colab_type": "code",
        "colab": {
          "base_uri": "https://localhost:8080/",
          "height": 56
        },
        "outputId": "d0f100b3-d431-4631-f7d4-9cb7dddbeb91"
      },
      "source": [
        "# Write Serialized to TF Record\n",
        "with tf.io.TFRecordWriter('my_contacts.tfrecord') as f:\n",
        "    f.write(person_example.SerializeToString())\n",
        "\n",
        "# Read record\n",
        "features_description = {\n",
        "    'name': tf.io.FixedLenFeature([], tf.string, default_value=\"\"),\n",
        "    'id': tf.io.FixedLenFeature([], tf.int64, default_value=0),\n",
        "    'emails': tf.io.VarLenFeature(tf.string)\n",
        "}\n",
        "for serialized_example in tf.data.TFRecordDataset(['my_contacts.tfrecord']):\n",
        "    parsed_example = tf.io.parse_single_example(\n",
        "        serialized_example,\n",
        "        features_description\n",
        "    )\n",
        "    print(parsed_example, parsed_example['emails'].values)"
      ],
      "execution_count": 20,
      "outputs": [
        {
          "output_type": "stream",
          "text": [
            "{'emails': <tensorflow.python.framework.sparse_tensor.SparseTensor object at 0x7fb8b69c2978>, 'id': <tf.Tensor: shape=(), dtype=int64, numpy=123>, 'name': <tf.Tensor: shape=(), dtype=string, numpy=b'Alice'>} tf.Tensor([b'a@a.com' b'b@b.com'], shape=(2,), dtype=string)\n"
          ],
          "name": "stdout"
        }
      ]
    },
    {
      "cell_type": "code",
      "metadata": {
        "id": "mXprqWMsgAx7",
        "colab_type": "code",
        "colab": {
          "base_uri": "https://localhost:8080/",
          "height": 36
        },
        "outputId": "bbdec6fc-0964-4f02-9b2f-e40f5ad52d20"
      },
      "source": [
        "tf.sparse.to_dense(parsed_example['emails'], default_value=b'')"
      ],
      "execution_count": 21,
      "outputs": [
        {
          "output_type": "execute_result",
          "data": {
            "text/plain": [
              "<tf.Tensor: shape=(2,), dtype=string, numpy=array([b'a@a.com', b'b@b.com'], dtype=object)>"
            ]
          },
          "metadata": {
            "tags": []
          },
          "execution_count": 21
        }
      ]
    },
    {
      "cell_type": "markdown",
      "metadata": {
        "id": "FA9L7Uldu1xo",
        "colab_type": "text"
      },
      "source": [
        "### SequenceExample()"
      ]
    },
    {
      "cell_type": "code",
      "metadata": {
        "id": "jA7_Oez1kjtA",
        "colab_type": "code",
        "colab": {}
      },
      "source": [
        "from tensorflow.train import FeatureList, FeatureLists, SequenceExample\n",
        "\n",
        "context = Features(feature={\n",
        "    \"author_id\": Feature(int64_list=Int64List(value=[123])),\n",
        "    \"title\": Feature(bytes_list=BytesList(value=[b\"A\", b\"desert\", b\"place\", b\".\"])),\n",
        "    \"pub_date\": Feature(int64_list=Int64List(value=[1623, 12, 25]))\n",
        "})\n",
        "content = [[\"When\", \"shall\", \"we\", \"three\", \"meet\", \"again\", \"?\"],\n",
        "           [\"In\", \"thunder\", \",\", \"lightning\", \",\", \"or\", \"in\", \"rain\", \"?\"]]\n",
        "comments = [[\"When\", \"the\", \"hurlyburly\", \"'s\", \"done\", \".\"],\n",
        "            [\"When\", \"the\", \"battle\", \"'s\", \"lost\", \"and\", \"won\", \".\"]]\n",
        "\n",
        "def words_to_feature(words):\n",
        "    return Feature(\n",
        "        bytes_list=BytesList(\n",
        "            value=[word.encode('utf-8') for word in words]\n",
        "        )\n",
        "    )\n",
        "\n",
        "content_featues = list(map(words_to_feature, content))\n",
        "comments_featues = list(map(words_to_feature, comments))\n",
        "\n",
        "sequence_example = SequenceExample(\n",
        "    context=context,\n",
        "    feature_lists=FeatureLists(\n",
        "        feature_list={\n",
        "            'content': FeatureList(feature=content_featues),\n",
        "            'comments': FeatureList(feature=comments_featues)\n",
        "        }\n",
        "    )\n",
        ")"
      ],
      "execution_count": 22,
      "outputs": []
    },
    {
      "cell_type": "code",
      "metadata": {
        "id": "TC0vJ6qCyAE6",
        "colab_type": "code",
        "colab": {
          "base_uri": "https://localhost:8080/",
          "height": 112
        },
        "outputId": "ec8af741-fd29-4765-b2ed-e5f54e100329"
      },
      "source": [
        "serialized_sequence_example = sequence_example.SerializeToString()\n",
        "\n",
        "context_feature_descriptions = {\n",
        "    'author_id': tf.io.FixedLenFeature([], tf.int64, default_value=0),\n",
        "    'title': tf.io.VarLenFeature(tf.string),\n",
        "    'pub_date': tf.io.FixedLenFeature([3], tf.int64, default_value=[0, 0, 0])\n",
        "}\n",
        "sequence_feature_descriptions = {\n",
        "    'content': tf.io.VarLenFeature(tf.string),\n",
        "    'comments': tf.io.VarLenFeature(tf.string)\n",
        "}\n",
        "\n",
        "parsed_context = tf.io.parse_single_sequence_example(\n",
        "    serialized_sequence_example,\n",
        "    context_feature_descriptions,\n",
        "    sequence_feature_descriptions\n",
        ")\n",
        "\n",
        "parsed_context"
      ],
      "execution_count": 23,
      "outputs": [
        {
          "output_type": "execute_result",
          "data": {
            "text/plain": [
              "({'author_id': <tf.Tensor: shape=(), dtype=int64, numpy=123>,\n",
              "  'pub_date': <tf.Tensor: shape=(3,), dtype=int64, numpy=array([1623,   12,   25])>,\n",
              "  'title': <tensorflow.python.framework.sparse_tensor.SparseTensor at 0x7fb8b69518d0>},\n",
              " {'comments': <tensorflow.python.framework.sparse_tensor.SparseTensor at 0x7fb8b6951940>,\n",
              "  'content': <tensorflow.python.framework.sparse_tensor.SparseTensor at 0x7fb8b6951978>})"
            ]
          },
          "metadata": {
            "tags": []
          },
          "execution_count": 23
        }
      ]
    },
    {
      "cell_type": "code",
      "metadata": {
        "id": "WugRtim3zyQy",
        "colab_type": "code",
        "colab": {
          "base_uri": "https://localhost:8080/",
          "height": 56
        },
        "outputId": "7197e322-c2a5-452f-e43c-c0b4f823226d"
      },
      "source": [
        "tf.RaggedTensor.from_sparse(parsed_context[1]['content'])"
      ],
      "execution_count": 24,
      "outputs": [
        {
          "output_type": "execute_result",
          "data": {
            "text/plain": [
              "<tf.RaggedTensor [[b'When', b'shall', b'we', b'three', b'meet', b'again', b'?'], [b'In', b'thunder', b',', b'lightning', b',', b'or', b'in', b'rain', b'?']]>"
            ]
          },
          "metadata": {
            "tags": []
          },
          "execution_count": 24
        }
      ]
    },
    {
      "cell_type": "markdown",
      "metadata": {
        "id": "utDP1p0r4-uk",
        "colab_type": "text"
      },
      "source": [
        "# Preprocessing Features"
      ]
    },
    {
      "cell_type": "code",
      "metadata": {
        "id": "s3rYuJHq0YrE",
        "colab_type": "code",
        "colab": {
          "base_uri": "https://localhost:8080/",
          "height": 204
        },
        "outputId": "e4ebeb37-4cfc-4d60-a5a7-241d671c9af4"
      },
      "source": [
        "import os\n",
        "import tarfile\n",
        "import urllib\n",
        "import pandas as pd\n",
        "\n",
        "DOWNLOAD_ROOT = \"https://raw.githubusercontent.com/ageron/handson-ml2/master/\"\n",
        "HOUSING_PATH = os.path.join(\"datasets\", \"housing\")\n",
        "HOUSING_URL = DOWNLOAD_ROOT + \"datasets/housing/housing.tgz\"\n",
        "\n",
        "def fetch_housing_data(housing_url=HOUSING_URL, housing_path=HOUSING_PATH):\n",
        "    os.makedirs(housing_path, exist_ok=True)\n",
        "    tgz_path = os.path.join(housing_path, \"housing.tgz\")\n",
        "    urllib.request.urlretrieve(housing_url, tgz_path)\n",
        "    housing_tgz = tarfile.open(tgz_path)\n",
        "    housing_tgz.extractall(path=housing_path)\n",
        "    housing_tgz.close()\n",
        "\n",
        "fetch_housing_data()\n",
        "\n",
        "\n",
        "def load_housing_data(housing_path=HOUSING_PATH):\n",
        "    csv_path = os.path.join(housing_path, \"housing.csv\")\n",
        "    return pd.read_csv(csv_path)\n",
        "\n",
        "housing = load_housing_data()\n",
        "housing.head()"
      ],
      "execution_count": 25,
      "outputs": [
        {
          "output_type": "execute_result",
          "data": {
            "text/html": [
              "<div>\n",
              "<style scoped>\n",
              "    .dataframe tbody tr th:only-of-type {\n",
              "        vertical-align: middle;\n",
              "    }\n",
              "\n",
              "    .dataframe tbody tr th {\n",
              "        vertical-align: top;\n",
              "    }\n",
              "\n",
              "    .dataframe thead th {\n",
              "        text-align: right;\n",
              "    }\n",
              "</style>\n",
              "<table border=\"1\" class=\"dataframe\">\n",
              "  <thead>\n",
              "    <tr style=\"text-align: right;\">\n",
              "      <th></th>\n",
              "      <th>longitude</th>\n",
              "      <th>latitude</th>\n",
              "      <th>housing_median_age</th>\n",
              "      <th>total_rooms</th>\n",
              "      <th>total_bedrooms</th>\n",
              "      <th>population</th>\n",
              "      <th>households</th>\n",
              "      <th>median_income</th>\n",
              "      <th>median_house_value</th>\n",
              "      <th>ocean_proximity</th>\n",
              "    </tr>\n",
              "  </thead>\n",
              "  <tbody>\n",
              "    <tr>\n",
              "      <th>0</th>\n",
              "      <td>-122.23</td>\n",
              "      <td>37.88</td>\n",
              "      <td>41.0</td>\n",
              "      <td>880.0</td>\n",
              "      <td>129.0</td>\n",
              "      <td>322.0</td>\n",
              "      <td>126.0</td>\n",
              "      <td>8.3252</td>\n",
              "      <td>452600.0</td>\n",
              "      <td>NEAR BAY</td>\n",
              "    </tr>\n",
              "    <tr>\n",
              "      <th>1</th>\n",
              "      <td>-122.22</td>\n",
              "      <td>37.86</td>\n",
              "      <td>21.0</td>\n",
              "      <td>7099.0</td>\n",
              "      <td>1106.0</td>\n",
              "      <td>2401.0</td>\n",
              "      <td>1138.0</td>\n",
              "      <td>8.3014</td>\n",
              "      <td>358500.0</td>\n",
              "      <td>NEAR BAY</td>\n",
              "    </tr>\n",
              "    <tr>\n",
              "      <th>2</th>\n",
              "      <td>-122.24</td>\n",
              "      <td>37.85</td>\n",
              "      <td>52.0</td>\n",
              "      <td>1467.0</td>\n",
              "      <td>190.0</td>\n",
              "      <td>496.0</td>\n",
              "      <td>177.0</td>\n",
              "      <td>7.2574</td>\n",
              "      <td>352100.0</td>\n",
              "      <td>NEAR BAY</td>\n",
              "    </tr>\n",
              "    <tr>\n",
              "      <th>3</th>\n",
              "      <td>-122.25</td>\n",
              "      <td>37.85</td>\n",
              "      <td>52.0</td>\n",
              "      <td>1274.0</td>\n",
              "      <td>235.0</td>\n",
              "      <td>558.0</td>\n",
              "      <td>219.0</td>\n",
              "      <td>5.6431</td>\n",
              "      <td>341300.0</td>\n",
              "      <td>NEAR BAY</td>\n",
              "    </tr>\n",
              "    <tr>\n",
              "      <th>4</th>\n",
              "      <td>-122.25</td>\n",
              "      <td>37.85</td>\n",
              "      <td>52.0</td>\n",
              "      <td>1627.0</td>\n",
              "      <td>280.0</td>\n",
              "      <td>565.0</td>\n",
              "      <td>259.0</td>\n",
              "      <td>3.8462</td>\n",
              "      <td>342200.0</td>\n",
              "      <td>NEAR BAY</td>\n",
              "    </tr>\n",
              "  </tbody>\n",
              "</table>\n",
              "</div>"
            ],
            "text/plain": [
              "   longitude  latitude  ...  median_house_value  ocean_proximity\n",
              "0    -122.23     37.88  ...            452600.0         NEAR BAY\n",
              "1    -122.22     37.86  ...            358500.0         NEAR BAY\n",
              "2    -122.24     37.85  ...            352100.0         NEAR BAY\n",
              "3    -122.25     37.85  ...            341300.0         NEAR BAY\n",
              "4    -122.25     37.85  ...            342200.0         NEAR BAY\n",
              "\n",
              "[5 rows x 10 columns]"
            ]
          },
          "metadata": {
            "tags": []
          },
          "execution_count": 25
        }
      ]
    },
    {
      "cell_type": "markdown",
      "metadata": {
        "id": "gHdVDfle_c2q",
        "colab_type": "text"
      },
      "source": [
        "## One-Hot encoding"
      ]
    },
    {
      "cell_type": "code",
      "metadata": {
        "id": "AeyI7oOU5Ifb",
        "colab_type": "code",
        "colab": {
          "base_uri": "https://localhost:8080/",
          "height": 36
        },
        "outputId": "9a97ee54-1746-4d5d-f7a5-50c2e15df426"
      },
      "source": [
        "# Get table\n",
        "vocab = list(housing['ocean_proximity'].unique())\n",
        "indices = tf.range(len(vocab), dtype=tf.int64)\n",
        "table_init = tf.lookup.KeyValueTensorInitializer(vocab, indices)\n",
        "num_oov_buckets = 2 # Possible unknown categories that will come next\n",
        "table = tf.lookup.StaticVocabularyTable(table_init, num_oov_buckets)\n",
        "\n",
        "# Use table\n",
        "categories = tf.constant(['NEAR BAY', 'DESERT', 'INLAND', 'ISLAND'])\n",
        "cat_indices = table.lookup(categories)\n",
        "cat_indices"
      ],
      "execution_count": 26,
      "outputs": [
        {
          "output_type": "execute_result",
          "data": {
            "text/plain": [
              "<tf.Tensor: shape=(4,), dtype=int64, numpy=array([0, 5, 2, 4])>"
            ]
          },
          "metadata": {
            "tags": []
          },
          "execution_count": 26
        }
      ]
    },
    {
      "cell_type": "code",
      "metadata": {
        "id": "ZfTLs66-_ugv",
        "colab_type": "code",
        "colab": {
          "base_uri": "https://localhost:8080/",
          "height": 112
        },
        "outputId": "e47e1bee-fcc5-4cc0-a276-ee4fa9b628b8"
      },
      "source": [
        "cat_one_hot = tf.one_hot(cat_indices, depth=len(vocab) + num_oov_buckets)\n",
        "cat_one_hot"
      ],
      "execution_count": 27,
      "outputs": [
        {
          "output_type": "execute_result",
          "data": {
            "text/plain": [
              "<tf.Tensor: shape=(4, 7), dtype=float32, numpy=\n",
              "array([[1., 0., 0., 0., 0., 0., 0.],\n",
              "       [0., 0., 0., 0., 0., 1., 0.],\n",
              "       [0., 0., 1., 0., 0., 0., 0.],\n",
              "       [0., 0., 0., 0., 1., 0., 0.]], dtype=float32)>"
            ]
          },
          "metadata": {
            "tags": []
          },
          "execution_count": 27
        }
      ]
    },
    {
      "cell_type": "markdown",
      "metadata": {
        "id": "F15441DgptaJ",
        "colab_type": "text"
      },
      "source": [
        "## Embeddings"
      ]
    },
    {
      "cell_type": "code",
      "metadata": {
        "id": "UjYai4XEl-5-",
        "colab_type": "code",
        "colab": {
          "base_uri": "https://localhost:8080/",
          "height": 169
        },
        "outputId": "4a679dba-aaa0-442c-ba0e-b51aeb1ffa43"
      },
      "source": [
        "embedding_dim = 2\n",
        "embed_init = tf.random.uniform([len(vocab) + num_oov_buckets, embedding_dim])\n",
        "embedding_matrix = tf.Variable(embed_init)\n",
        "\n",
        "embedding_matrix"
      ],
      "execution_count": 28,
      "outputs": [
        {
          "output_type": "execute_result",
          "data": {
            "text/plain": [
              "<tf.Variable 'Variable:0' shape=(7, 2) dtype=float32, numpy=\n",
              "array([[0.7413678 , 0.62854624],\n",
              "       [0.01738465, 0.3431449 ],\n",
              "       [0.51063764, 0.3777541 ],\n",
              "       [0.07321596, 0.02137029],\n",
              "       [0.2871771 , 0.4710616 ],\n",
              "       [0.6936141 , 0.07321334],\n",
              "       [0.93251204, 0.20843053]], dtype=float32)>"
            ]
          },
          "metadata": {
            "tags": []
          },
          "execution_count": 28
        }
      ]
    },
    {
      "cell_type": "code",
      "metadata": {
        "id": "Ehg3qfGAvBfk",
        "colab_type": "code",
        "colab": {
          "base_uri": "https://localhost:8080/",
          "height": 112
        },
        "outputId": "ef09dff6-09f6-46bc-92a4-56f37c05801b"
      },
      "source": [
        "tf.nn.embedding_lookup(embedding_matrix, cat_indices)"
      ],
      "execution_count": 29,
      "outputs": [
        {
          "output_type": "execute_result",
          "data": {
            "text/plain": [
              "<tf.Tensor: shape=(4, 2), dtype=float32, numpy=\n",
              "array([[0.7413678 , 0.62854624],\n",
              "       [0.6936141 , 0.07321334],\n",
              "       [0.51063764, 0.3777541 ],\n",
              "       [0.2871771 , 0.4710616 ]], dtype=float32)>"
            ]
          },
          "metadata": {
            "tags": []
          },
          "execution_count": 29
        }
      ]
    },
    {
      "cell_type": "code",
      "metadata": {
        "id": "TsG6wMZK0ONi",
        "colab_type": "code",
        "colab": {
          "base_uri": "https://localhost:8080/",
          "height": 112
        },
        "outputId": "44d5bc4e-1ecd-4066-f828-3770c91de414"
      },
      "source": [
        "embedding = keras.layers.Embedding(\n",
        "    input_dim=len(vocab) + num_oov_buckets,\n",
        "    output_dim=embedding_dim\n",
        ") # Embedding is trainable\n",
        "embedding(cat_indices)"
      ],
      "execution_count": 30,
      "outputs": [
        {
          "output_type": "execute_result",
          "data": {
            "text/plain": [
              "<tf.Tensor: shape=(4, 2), dtype=float32, numpy=\n",
              "array([[ 0.02402308, -0.01606181],\n",
              "       [ 0.01639661, -0.01945841],\n",
              "       [-0.0207145 , -0.00739944],\n",
              "       [-0.01907427,  0.03923661]], dtype=float32)>"
            ]
          },
          "metadata": {
            "tags": []
          },
          "execution_count": 30
        }
      ]
    },
    {
      "cell_type": "markdown",
      "metadata": {
        "id": "sPzj0PSJ2xZ9",
        "colab_type": "text"
      },
      "source": [
        "## Keras Preprocessing Layers"
      ]
    },
    {
      "cell_type": "code",
      "metadata": {
        "id": "UPxzBWpc19v4",
        "colab_type": "code",
        "colab": {}
      },
      "source": [
        "from sklearn.model_selection import train_test_split\n",
        "keras.backend.clear_session()\n",
        "tf.random.set_seed(42)\n",
        "np.random.seed(42)\n",
        "\n",
        "X_full = housing.copy()\n",
        "y_full = X_full['median_house_value']\n",
        "y_full = y_full / 500_000\n",
        "X_full.drop('median_house_value', axis=1, inplace=True)\n",
        "\n",
        "X_train_full, X_test, y_train_full, y_test = train_test_split(X_full, y_full, test_size=0.2)\n",
        "X_train, X_valid, y_train, y_valid = train_test_split(X_train_full, y_train_full, test_size=0.15)\n",
        "\n",
        "regular_inputs = keras.layers.Input(shape=[8])\n",
        "normalized = keras.layers.experimental.preprocessing.Normalization()\n",
        "normalized.adapt(X_train.drop('ocean_proximity', axis=1).to_numpy())\n",
        "normalized_inputs = normalized(regular_inputs)\n",
        "categories = keras.layers.Input(shape=[], dtype=tf.string)\n",
        "cat_indices = keras.layers.Lambda(lambda cats: table.lookup(cats))(categories)\n",
        "cat_embed = keras.layers.Embedding(input_dim=6, output_dim=2)(cat_indices)\n",
        "encoded_inputs = keras.layers.concatenate([normalized_inputs, cat_embed])\n",
        "dense1 = keras.layers.Dense(10)(encoded_inputs)\n",
        "outputs = keras.layers.Dense(1)(dense1)\n",
        "\n",
        "\n",
        "model = keras.Model(inputs=[regular_inputs, categories], outputs=[outputs])\n",
        "model.compile('nadam', 'mse', metrics=['mae'])"
      ],
      "execution_count": 49,
      "outputs": []
    },
    {
      "cell_type": "code",
      "metadata": {
        "id": "r2lqyLuD7Tib",
        "colab_type": "code",
        "colab": {}
      },
      "source": [
        "history = model.fit(\n",
        "    x=(\n",
        "        X_train.drop('ocean_proximity', axis=1).to_numpy(),\n",
        "        X_train['ocean_proximity'].to_numpy()\n",
        "    ),\n",
        "    y=y_train.to_numpy(),\n",
        "    batch_size=32,\n",
        "    epochs=1000,\n",
        "    validation_data=(\n",
        "        (\n",
        "            X_valid.drop('ocean_proximity', axis=1).to_numpy(),\n",
        "            X_valid['ocean_proximity'].to_numpy()\n",
        "        ),\n",
        "        y_valid.to_numpy()\n",
        "    ),\n",
        "    callbacks=[\n",
        "        keras.callbacks.EarlyStopping(patience=10)\n",
        "    ]\n",
        ")"
      ],
      "execution_count": null,
      "outputs": []
    },
    {
      "cell_type": "code",
      "metadata": {
        "id": "HubujQ9qJ5eX",
        "colab_type": "code",
        "colab": {
          "base_uri": "https://localhost:8080/",
          "height": 300
        },
        "outputId": "a394b9d6-9aa0-4a79-ba90-79f7953f5e1e"
      },
      "source": [
        "fig, (ax1, ax2) = plt.subplots(1, 2, figsize=(7, 4))\n",
        "\n",
        "plt.sca(ax1)\n",
        "plt.title('Loss')\n",
        "plt.plot(history.history['loss'][:-9], label='Train')\n",
        "plt.plot(history.history['val_loss'][:-9], label='Val')\n",
        "plt.legend()\n",
        "\n",
        "plt.sca(ax2)\n",
        "plt.title('Mae')\n",
        "plt.plot(history.history['mae'][:-9], label='Train')\n",
        "plt.plot(history.history['val_mae'][:-9], label='Val')\n",
        "plt.legend()"
      ],
      "execution_count": 54,
      "outputs": [
        {
          "output_type": "execute_result",
          "data": {
            "text/plain": [
              "<matplotlib.legend.Legend at 0x7fb8a903a9b0>"
            ]
          },
          "metadata": {
            "tags": []
          },
          "execution_count": 54
        },
        {
          "output_type": "display_data",
          "data": {
            "image/png": "[encoded data removed]",
            "text/plain": [
              "<Figure size 504x288 with 2 Axes>"
            ]
          },
          "metadata": {
            "tags": [],
            "needs_background": "light"
          }
        }
      ]
    },
    {
      "cell_type": "markdown",
      "metadata": {
        "id": "yKuz2Z9UKBVX",
        "colab_type": "text"
      },
      "source": [
        "# TF Transform"
      ]
    },
    {
      "cell_type": "code",
      "metadata": {
        "id": "lRjkexWbIHeh",
        "colab_type": "code",
        "colab": {}
      },
      "source": [
        "import tensorflow_transform as tft\n",
        "def preprocess(inputs):  # inputs is a batch of input features\n",
        "    median_age = inputs[\"housing_median_age\"]\n",
        "    ocean_proximity = inputs[\"ocean_proximity\"]\n",
        "    standardized_age = tft.scale_to_z_score(median_age - tft.mean(median_age))\n",
        "    ocean_proximity_id = tft.compute_and_apply_vocabulary(ocean_proximity)\n",
        "    return {\n",
        "        \"standardized_median_age\": standardized_age,\n",
        "        \"ocean_proximity_id\": ocean_proximity_id\n",
        "    }"
      ],
      "execution_count": null,
      "outputs": []
    },
    {
      "cell_type": "markdown",
      "metadata": {
        "id": "GutbjtsWL94R",
        "colab_type": "text"
      },
      "source": [
        "# Tensorflow Datasets"
      ]
    },
    {
      "cell_type": "code",
      "metadata": {
        "id": "VmSjzItsL8QK",
        "colab_type": "code",
        "colab": {}
      },
      "source": [
        "import tensorflow_datasets as tfds\n",
        "\n",
        "dataset = tfds.load('mnist')\n",
        "mnist_train, mnist_test = dataset['train'], dataset['test']"
      ],
      "execution_count": null,
      "outputs": []
    },
    {
      "cell_type": "code",
      "metadata": {
        "id": "QSYO5-AeNKap",
        "colab_type": "code",
        "colab": {}
      },
      "source": [
        "mnist_train = mnist_train.shuffle(10000).batch(32).prefetch(1)"
      ],
      "execution_count": 57,
      "outputs": []
    },
    {
      "cell_type": "markdown",
      "metadata": {
        "id": "oLO4H7FXeuwH",
        "colab_type": "text"
      },
      "source": [
        "# Tensorflow Hub"
      ]
    },
    {
      "cell_type": "code",
      "metadata": {
        "id": "hNM3nYSzexVK",
        "colab_type": "code",
        "colab": {}
      },
      "source": [
        "import tensorflow_hub as hub\n",
        "\n",
        "# Use model\n",
        "embed = hub.load(\"https://tfhub.dev/google/tf2-preview/nnlm-en-dim50/1\")\n",
        "embeddings = embed([\"cat is on the mat\", \"dog is in the fog\"])\n",
        "\n",
        "# Or load model and integrate\n",
        "hub_layer = hub.KerasLayer(\"https://tfhub.dev/google/tf2-preview/nnlm-en-dim50/1\", output_shape=[50],\n",
        "                           input_shape=[], dtype=tf.string)\n",
        "\n",
        "model = keras.Sequential()\n",
        "model.add(hub_layer)\n",
        "model.add(keras.layers.Dense(16, activation='relu'))\n",
        "model.add(keras.layers.Dense(1, activation='sigmoid'))"
      ],
      "execution_count": null,
      "outputs": []
    },
    {
      "cell_type": "code",
      "metadata": {
        "id": "mZpN-piThpda",
        "colab_type": "code",
        "colab": {
          "base_uri": "https://localhost:8080/",
          "height": 435
        },
        "outputId": "02d17cdc-8b8a-4735-8a42-22d36144dac6"
      },
      "source": [
        "embeddings"
      ],
      "execution_count": 64,
      "outputs": [
        {
          "output_type": "execute_result",
          "data": {
            "text/plain": [
              "<tf.Tensor: shape=(2, 50), dtype=float32, numpy=\n",
              "array([[ 0.16589954,  0.0254965 ,  0.1574857 ,  0.17688066,  0.02911299,\n",
              "        -0.03092718,  0.19445257, -0.05709129, -0.08631689, -0.04391516,\n",
              "         0.13032274,  0.10905275, -0.08515751,  0.01056632, -0.17220995,\n",
              "        -0.17925954,  0.19556305,  0.0802278 , -0.03247919, -0.49176937,\n",
              "        -0.07767699, -0.03160921, -0.13952136,  0.05959712,  0.06858718,\n",
              "         0.22386682, -0.16653948,  0.19412343, -0.05491862,  0.10997339,\n",
              "        -0.15811177, -0.02576607, -0.07910853, -0.258499  , -0.04206644,\n",
              "        -0.20052543,  0.1705603 , -0.15314153,  0.0039225 , -0.28694248,\n",
              "         0.02468278,  0.11069503,  0.03733957,  0.01433943, -0.11048374,\n",
              "         0.11931834, -0.11552787, -0.11110869,  0.02384969, -0.07074881],\n",
              "       [ 0.1437864 ,  0.08291595,  0.10897306,  0.04464385, -0.03630389,\n",
              "        -0.12605834,  0.20263346,  0.12862863, -0.07873426, -0.01195358,\n",
              "         0.0020956 , -0.03080653, -0.08019945, -0.18797135, -0.11973457,\n",
              "        -0.26926652,  0.05157408, -0.15541205, -0.12221853, -0.27182642,\n",
              "         0.08750801, -0.05013347,  0.03012378,  0.2053423 ,  0.10000334,\n",
              "         0.18292566, -0.18280756,  0.0780353 ,  0.10936535, -0.10147726,\n",
              "        -0.19995196,  0.0398768 , -0.15377024, -0.1095404 , -0.18498933,\n",
              "        -0.15899731,  0.0558111 ,  0.15251887,  0.02046264, -0.25878936,\n",
              "        -0.13057052,  0.0782799 ,  0.04044291,  0.14456013,  0.00264394,\n",
              "         0.1399635 , -0.04803645, -0.17253871, -0.03153546,  0.09077   ]],\n",
              "      dtype=float32)>"
            ]
          },
          "metadata": {
            "tags": []
          },
          "execution_count": 64
        }
      ]
    },
    {
      "cell_type": "markdown",
      "metadata": {
        "id": "moruCvelQr3o",
        "colab_type": "text"
      },
      "source": [
        "# Exercises"
      ]
    },
    {
      "cell_type": "markdown",
      "metadata": {
        "id": "kvaDOvOxog-9",
        "colab_type": "text"
      },
      "source": [
        "## 1"
      ]
    },
    {
      "cell_type": "code",
      "metadata": {
        "id": "Y0AF-CgINBgV",
        "colab_type": "code",
        "colab": {}
      },
      "source": [
        "(X_train_full, y_train_full), (X_test, y_test) = keras.datasets.fashion_mnist.load_data()\n",
        "X_valid, X_train = X_train_full[:5000], X_train_full[5000:]\n",
        "y_valid, y_train = y_train_full[:5000], y_train_full[5000:]"
      ],
      "execution_count": null,
      "outputs": []
    },
    {
      "cell_type": "code",
      "metadata": {
        "id": "bjHD8sU9o7Ig",
        "colab_type": "code",
        "colab": {}
      },
      "source": [
        "train_set = tf.data.Dataset.from_tensor_slices((X_train, y_train)).shuffle(len(X_train))\n",
        "valid_set = tf.data.Dataset.from_tensor_slices((X_valid, y_valid))\n",
        "test_set = tf.data.Dataset.from_tensor_slices((X_test, y_test))"
      ],
      "execution_count": 91,
      "outputs": []
    },
    {
      "cell_type": "code",
      "metadata": {
        "id": "a4JWmbfXriYs",
        "colab_type": "code",
        "colab": {}
      },
      "source": [
        "from tensorflow.train import Example, Feature, Features, BytesList, Int64List\n",
        "from contextlib import ExitStack\n",
        "\n",
        "def create_example(image, label):\n",
        "    image = tf.io.serialize_tensor(image)\n",
        "    return Example(\n",
        "        features=Features(\n",
        "            feature={\n",
        "            'image': Feature(bytes_list=BytesList(value=[image.numpy()])),\n",
        "            'label': Feature(int64_list=Int64List(value=[label]))\n",
        "            }\n",
        "        )\n",
        "    )\n",
        "\n",
        "def write_tfrecords(name, dataset, n_shards=10):\n",
        "    paths = [f'{name}.tfrecord-{index+1}-of-{n_shards}' for index in range(n_shards)]\n",
        "\n",
        "    with ExitStack() as stack:\n",
        "        writers = [stack.enter_context(tf.io.TFRecordWriter(path)) for path in paths]\n",
        "\n",
        "        for index, (image, label) in dataset.enumerate():\n",
        "            shard = index % n_shards\n",
        "            example = create_example(image, label)\n",
        "            writers[shard].write(example.SerializeToString())\n",
        "        \n",
        "\n",
        "    return paths\n",
        "\n",
        "\n",
        "train_filepaths = write_tfrecords(\"my_fashion_mnist.train\", train_set)\n",
        "valid_filepaths = write_tfrecords(\"my_fashion_mnist.valid\", valid_set)\n",
        "test_filepaths = write_tfrecords(\"my_fashion_mnist.test\", test_set)"
      ],
      "execution_count": 121,
      "outputs": []
    },
    {
      "cell_type": "code",
      "metadata": {
        "id": "iKs8QRnFvKYt",
        "colab_type": "code",
        "colab": {}
      },
      "source": [
        ""
      ],
      "execution_count": null,
      "outputs": []
    }
  ]
}