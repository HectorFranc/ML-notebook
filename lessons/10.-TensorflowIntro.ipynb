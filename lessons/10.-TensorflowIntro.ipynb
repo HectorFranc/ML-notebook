{
  "nbformat": 4,
  "nbformat_minor": 0,
  "metadata": {
    "colab": {
      "name": "TensorflowIntro.ipynb",
      "provenance": [],
      "collapsed_sections": [],
      "authorship_tag": "ABX9TyO5QuEx1Dg0/8YM7q9A2UPV"
    },
    "kernelspec": {
      "name": "python3",
      "display_name": "Python 3"
    }
  },
  "cells": [
    {
      "cell_type": "code",
      "metadata": {
        "id": "D6YtllO-W2qW",
        "colab_type": "code",
        "colab": {}
      },
      "source": [
        "import tensorflow as tf\n",
        "from tensorflow import keras\n",
        "import numpy as np\n",
        "import matplotlib.pyplot as plt"
      ],
      "execution_count": 1,
      "outputs": []
    },
    {
      "cell_type": "markdown",
      "metadata": {
        "id": "jRdxK4LXrkyx",
        "colab_type": "text"
      },
      "source": [
        "## Operations"
      ]
    },
    {
      "cell_type": "markdown",
      "metadata": {
        "id": "CWOMB-1nwqvd",
        "colab_type": "text"
      },
      "source": [
        "### Constant (inmutables)"
      ]
    },
    {
      "cell_type": "code",
      "metadata": {
        "id": "FWI3EP2Lrji4",
        "colab_type": "code",
        "colab": {
          "base_uri": "https://localhost:8080/",
          "height": 74
        },
        "outputId": "4b378e03-3885-4c2e-e45f-f00a44538bb5"
      },
      "source": [
        "t = tf.constant([[1., 2., 3.], [4., 5., 6.]])\n",
        "t"
      ],
      "execution_count": null,
      "outputs": [
        {
          "output_type": "execute_result",
          "data": {
            "text/plain": [
              "<tf.Tensor: shape=(2, 3), dtype=float32, numpy=\n",
              "array([[1., 2., 3.],\n",
              "       [4., 5., 6.]], dtype=float32)>"
            ]
          },
          "metadata": {
            "tags": []
          },
          "execution_count": 2
        }
      ]
    },
    {
      "cell_type": "code",
      "metadata": {
        "id": "yaddAeEmsLY7",
        "colab_type": "code",
        "colab": {
          "base_uri": "https://localhost:8080/",
          "height": 36
        },
        "outputId": "a2cce51d-f41c-4ba8-a33c-0fe1ef7eb8c9"
      },
      "source": [
        "t.shape, t.dtype"
      ],
      "execution_count": null,
      "outputs": [
        {
          "output_type": "execute_result",
          "data": {
            "text/plain": [
              "(TensorShape([2, 3]), tf.float32)"
            ]
          },
          "metadata": {
            "tags": []
          },
          "execution_count": 3
        }
      ]
    },
    {
      "cell_type": "code",
      "metadata": {
        "id": "UcBHBpuGsP8C",
        "colab_type": "code",
        "colab": {
          "base_uri": "https://localhost:8080/",
          "height": 74
        },
        "outputId": "477ffd7c-9c94-480e-f02e-2e597a006763"
      },
      "source": [
        "t[:, 1:]"
      ],
      "execution_count": null,
      "outputs": [
        {
          "output_type": "execute_result",
          "data": {
            "text/plain": [
              "<tf.Tensor: shape=(2, 2), dtype=float32, numpy=\n",
              "array([[2., 3.],\n",
              "       [5., 6.]], dtype=float32)>"
            ]
          },
          "metadata": {
            "tags": []
          },
          "execution_count": 4
        }
      ]
    },
    {
      "cell_type": "code",
      "metadata": {
        "id": "kQ56DjoytESz",
        "colab_type": "code",
        "colab": {
          "base_uri": "https://localhost:8080/",
          "height": 74
        },
        "outputId": "ea5ebb97-7172-49e8-c47e-9fc504ad5e58"
      },
      "source": [
        "t[..., 1, tf.newaxis]"
      ],
      "execution_count": null,
      "outputs": [
        {
          "output_type": "execute_result",
          "data": {
            "text/plain": [
              "<tf.Tensor: shape=(2, 1), dtype=float32, numpy=\n",
              "array([[2.],\n",
              "       [5.]], dtype=float32)>"
            ]
          },
          "metadata": {
            "tags": []
          },
          "execution_count": 5
        }
      ]
    },
    {
      "cell_type": "code",
      "metadata": {
        "id": "MASh_0iQtvj3",
        "colab_type": "code",
        "colab": {
          "base_uri": "https://localhost:8080/",
          "height": 131
        },
        "outputId": "810a85db-6532-44c3-caf9-1ce0e3785853"
      },
      "source": [
        "print(tf.square(t))\n",
        "print(t @ tf.transpose(t))"
      ],
      "execution_count": null,
      "outputs": [
        {
          "output_type": "stream",
          "text": [
            "tf.Tensor(\n",
            "[[ 1.  4.  9.]\n",
            " [16. 25. 36.]], shape=(2, 3), dtype=float32)\n",
            "tf.Tensor(\n",
            "[[14. 32.]\n",
            " [32. 77.]], shape=(2, 2), dtype=float32)\n"
          ],
          "name": "stdout"
        }
      ]
    },
    {
      "cell_type": "markdown",
      "metadata": {
        "id": "wpdJmH3-wtpF",
        "colab_type": "text"
      },
      "source": [
        "### Variables (mutables)"
      ]
    },
    {
      "cell_type": "code",
      "metadata": {
        "id": "mDkD1DeMt5XW",
        "colab_type": "code",
        "colab": {}
      },
      "source": [
        "v = tf.Variable([1, 2, 3])"
      ],
      "execution_count": null,
      "outputs": []
    },
    {
      "cell_type": "code",
      "metadata": {
        "id": "9Q4IEXs_r7CQ",
        "colab_type": "code",
        "colab": {
          "base_uri": "https://localhost:8080/",
          "height": 36
        },
        "outputId": "514cf13f-e4ce-4325-b9d4-d9aa73e5eae0"
      },
      "source": [
        "v.assign(2 * v)"
      ],
      "execution_count": null,
      "outputs": [
        {
          "output_type": "execute_result",
          "data": {
            "text/plain": [
              "<tf.Variable 'UnreadVariable' shape=(3,) dtype=int32, numpy=array([2, 4, 6], dtype=int32)>"
            ]
          },
          "metadata": {
            "tags": []
          },
          "execution_count": 9
        }
      ]
    },
    {
      "cell_type": "code",
      "metadata": {
        "id": "-8PfoYaSsEej",
        "colab_type": "code",
        "colab": {
          "base_uri": "https://localhost:8080/",
          "height": 36
        },
        "outputId": "89db2a79-427d-44d3-efdb-49333608882a"
      },
      "source": [
        "v[1].assign(10)"
      ],
      "execution_count": null,
      "outputs": [
        {
          "output_type": "execute_result",
          "data": {
            "text/plain": [
              "<tf.Variable 'UnreadVariable' shape=(3,) dtype=int32, numpy=array([ 2, 10,  6], dtype=int32)>"
            ]
          },
          "metadata": {
            "tags": []
          },
          "execution_count": 10
        }
      ]
    },
    {
      "cell_type": "markdown",
      "metadata": {
        "id": "uaQ7hjCjt-Ho",
        "colab_type": "text"
      },
      "source": [
        "## Custom loss function"
      ]
    },
    {
      "cell_type": "code",
      "metadata": {
        "id": "qfynahzkw9n5",
        "colab_type": "code",
        "colab": {
          "base_uri": "https://localhost:8080/",
          "height": 36
        },
        "outputId": "fccb8976-6b38-4e82-8b30-8c646f611eed"
      },
      "source": [
        "from sklearn.datasets import fetch_california_housing\n",
        "from sklearn.model_selection import train_test_split\n",
        "from sklearn.preprocessing import StandardScaler\n",
        "\n",
        "housing = fetch_california_housing()\n",
        "X_train_full, X_test, y_train_full, y_test = train_test_split(\n",
        "    housing.data, housing.target.reshape(-1, 1), random_state=42)\n",
        "X_train, X_valid, y_train, y_valid = train_test_split(\n",
        "    X_train_full, y_train_full, random_state=42)\n",
        "\n",
        "scaler = StandardScaler()\n",
        "X_train_scaled = scaler.fit_transform(X_train)\n",
        "X_valid_scaled = scaler.transform(X_valid)\n",
        "X_test_scaled = scaler.transform(X_test)"
      ],
      "execution_count": null,
      "outputs": [
        {
          "output_type": "stream",
          "text": [
            "Downloading Cal. housing from https://ndownloader.figshare.com/files/5976036 to /root/scikit_learn_data\n"
          ],
          "name": "stderr"
        }
      ]
    },
    {
      "cell_type": "markdown",
      "metadata": {
        "id": "uR2ZxDYmzIqj",
        "colab_type": "text"
      },
      "source": [
        "#### Functional"
      ]
    },
    {
      "cell_type": "code",
      "metadata": {
        "id": "4Km0T9XMt5jD",
        "colab_type": "code",
        "colab": {}
      },
      "source": [
        "def huber_fn(y_true, y_pred):\n",
        "    error = y_true - y_pred\n",
        "    is_small_error = tf.abs(error) < 1\n",
        "    squared_loss = tf.square(error) / 2\n",
        "    linear_loss = tf.abs(error) - 0.5\n",
        "\n",
        "    return tf.where(is_small_error, squared_loss, linear_loss)"
      ],
      "execution_count": null,
      "outputs": []
    },
    {
      "cell_type": "code",
      "metadata": {
        "id": "KDHeLBDJxC_I",
        "colab_type": "code",
        "colab": {}
      },
      "source": [
        "input_shape = X_train.shape[1:]\n",
        "\n",
        "model = keras.models.Sequential([\n",
        "    keras.layers.Dense(30, activation=\"selu\", kernel_initializer=\"lecun_normal\",\n",
        "                       input_shape=input_shape),\n",
        "    keras.layers.Dense(1),\n",
        "])"
      ],
      "execution_count": null,
      "outputs": []
    },
    {
      "cell_type": "code",
      "metadata": {
        "id": "N9qoCNd-xMUD",
        "colab_type": "code",
        "colab": {}
      },
      "source": [
        "early_stopping_cb = keras.callbacks.EarlyStopping(patience=5)\n",
        "\n",
        "model.compile(loss=huber_fn, optimizer='adam', metrics=['mae'])\n",
        "model.fit(\n",
        "    x = X_train_scaled,\n",
        "    y = y_train, epochs=1000,\n",
        "    validation_data = (X_valid_scaled, y_valid),\n",
        "    callbacks = [\n",
        "        early_stopping_cb\n",
        "    ]\n",
        ")"
      ],
      "execution_count": null,
      "outputs": []
    },
    {
      "cell_type": "code",
      "metadata": {
        "id": "PWHbonxzyNEl",
        "colab_type": "code",
        "colab": {}
      },
      "source": [
        "model.save('my_model.h5')\n",
        "loaded_model = keras.models.load_model('my_model.h5', custom_objects={ 'huber_fn': huber_fn })"
      ],
      "execution_count": null,
      "outputs": []
    },
    {
      "cell_type": "markdown",
      "metadata": {
        "id": "LNkwVCt2ziFm",
        "colab_type": "text"
      },
      "source": [
        "#### Subclassing"
      ]
    },
    {
      "cell_type": "code",
      "metadata": {
        "id": "2yKD_mrWzeOy",
        "colab_type": "code",
        "colab": {}
      },
      "source": [
        "class HuberLoss(keras.losses.Loss):\n",
        "    def __init__(self, threshold=1.0, **kwargs):\n",
        "        self.threshold = threshold\n",
        "        super().__init__(**kwargs)\n",
        "\n",
        "    def call(self, y_true, y_pred):\n",
        "        error = y_true - y_pred\n",
        "        abs_error = tf.abs(error)\n",
        "        is_small_error = abs_error <= self.threshold\n",
        "        squared_loss = tf.square(error) / 2\n",
        "        linear_loss = self.threshold * abs_error - self.threshold**2 / 2\n",
        "\n",
        "        return tf.where(is_small_error, squared_loss, linear_loss)\n",
        "\n",
        "    def get_config(self):\n",
        "        base_config = super().get_config()\n",
        "        return {\n",
        "            **base_config,\n",
        "            'threshold': self.threshold\n",
        "        }"
      ],
      "execution_count": null,
      "outputs": []
    },
    {
      "cell_type": "code",
      "metadata": {
        "id": "ipGMwKkw2Qlw",
        "colab_type": "code",
        "colab": {}
      },
      "source": [
        "model = keras.models.Sequential([\n",
        "    keras.layers.Dense(30, activation=\"selu\", kernel_initializer=\"lecun_normal\",\n",
        "                       input_shape=input_shape),\n",
        "    keras.layers.Dense(1),\n",
        "])\n",
        "\n",
        "early_stopping_cb = keras.callbacks.EarlyStopping(patience=5)\n",
        "\n",
        "model.compile(loss=HuberLoss(2.), optimizer='adam', metrics=['mae'])\n",
        "model.fit(\n",
        "    x = X_train_scaled,\n",
        "    y = y_train, epochs=1000,\n",
        "    validation_data = (X_valid_scaled, y_valid),\n",
        "    callbacks = [\n",
        "        early_stopping_cb\n",
        "    ]\n",
        ")"
      ],
      "execution_count": null,
      "outputs": []
    },
    {
      "cell_type": "code",
      "metadata": {
        "id": "v-3n_e7S2fGU",
        "colab_type": "code",
        "colab": {
          "base_uri": "https://localhost:8080/",
          "height": 36
        },
        "outputId": "419b0d4f-7661-4e48-cb02-cf4d382c075c"
      },
      "source": [
        "model.save('my_model.h5')\n",
        "loaded_model = keras.models.load_model('my_model.h5', custom_objects={ 'HuberLoss': HuberLoss })\n",
        "loaded_model.loss.threshold"
      ],
      "execution_count": null,
      "outputs": [
        {
          "output_type": "execute_result",
          "data": {
            "text/plain": [
              "2.0"
            ]
          },
          "metadata": {
            "tags": []
          },
          "execution_count": 30
        }
      ]
    },
    {
      "cell_type": "markdown",
      "metadata": {
        "id": "rLSgsK3u4Rug",
        "colab_type": "text"
      },
      "source": [
        "## Custom Components"
      ]
    },
    {
      "cell_type": "markdown",
      "metadata": {
        "id": "pcZOVQVa3wfK",
        "colab_type": "text"
      },
      "source": [
        "### Activation Function"
      ]
    },
    {
      "cell_type": "code",
      "metadata": {
        "id": "jy796MeF2vH5",
        "colab_type": "code",
        "colab": {}
      },
      "source": [
        "def my_softplus(z):\n",
        "    return tf.math.log(tf.exp(z) + 1.0)"
      ],
      "execution_count": null,
      "outputs": []
    },
    {
      "cell_type": "markdown",
      "metadata": {
        "id": "vgQVsxlJ3079",
        "colab_type": "text"
      },
      "source": [
        "### Initializer"
      ]
    },
    {
      "cell_type": "code",
      "metadata": {
        "id": "knSWaCUO34sQ",
        "colab_type": "code",
        "colab": {}
      },
      "source": [
        "def my_glorot_initializer(shape, dtype=tf.float32):\n",
        "    stddev = tf.sqrt(2.0 / (shape[0] + shape[1]))\n",
        "    return tf.random.normal(shape, stddev=stddev, dtype=dtype)"
      ],
      "execution_count": null,
      "outputs": []
    },
    {
      "cell_type": "markdown",
      "metadata": {
        "id": "QXS8Y2CM36LF",
        "colab_type": "text"
      },
      "source": [
        "### Regularizer"
      ]
    },
    {
      "cell_type": "code",
      "metadata": {
        "id": "j-Q2ThyN39gx",
        "colab_type": "code",
        "colab": {}
      },
      "source": [
        "class MyL1Regularizer(keras.regularizers.Regularizer):\n",
        "    def __init__(self, l1=0.01, **kwargs):\n",
        "        self.l1 = l1\n",
        "        super().__init__(**kwargs)\n",
        "\n",
        "    def __call__(self, weights):\n",
        "        return self.l1 * tf.reduce_sum(tf.abs(weights))\n",
        "\n",
        "    def get_config(self):\n",
        "        return {\n",
        "            'l1': self.l1\n",
        "        }\n"
      ],
      "execution_count": null,
      "outputs": []
    },
    {
      "cell_type": "markdown",
      "metadata": {
        "id": "E7IvV5MO3-Cb",
        "colab_type": "text"
      },
      "source": [
        "### Constraint"
      ]
    },
    {
      "cell_type": "code",
      "metadata": {
        "id": "n430XCjR4B2P",
        "colab_type": "code",
        "colab": {}
      },
      "source": [
        "def my_positive_weights(weights):\n",
        "    return tf.where(weights < 0.0, tf.zeros_like(weights), weights)"
      ],
      "execution_count": null,
      "outputs": []
    },
    {
      "cell_type": "markdown",
      "metadata": {
        "id": "NY0ygWbECzcY",
        "colab_type": "text"
      },
      "source": [
        "**Training with custom**"
      ]
    },
    {
      "cell_type": "code",
      "metadata": {
        "id": "OyatQvLt8Hls",
        "colab_type": "code",
        "colab": {}
      },
      "source": [
        "model = keras.models.Sequential([\n",
        "    keras.layers.Dense(\n",
        "        units=30,\n",
        "        input_shape=input_shape,\n",
        "        activation='selu',\n",
        "        kernel_initializer='lecun_normal',\n",
        "    ),\n",
        "    keras.layers.Dense(\n",
        "        units=1,\n",
        "        activation=my_softplus,\n",
        "        kernel_regularizer=MyL1Regularizer(),\n",
        "        kernel_constraint=my_positive_weights,\n",
        "        kernel_initializer=my_glorot_initializer\n",
        "    ),\n",
        "])\n",
        "\n",
        "early_stopping_cb = keras.callbacks.EarlyStopping(patience=5)\n",
        "\n",
        "model.compile(loss=HuberLoss(2.), optimizer='nadam', metrics=['mae'])\n",
        "model.fit(\n",
        "    x = X_train_scaled,\n",
        "    y = y_train, epochs=1000,\n",
        "    validation_data = (X_valid_scaled, y_valid),\n",
        "    callbacks = [\n",
        "        early_stopping_cb\n",
        "    ]\n",
        ")"
      ],
      "execution_count": null,
      "outputs": []
    },
    {
      "cell_type": "code",
      "metadata": {
        "id": "bqpZFUy39-yA",
        "colab_type": "code",
        "colab": {}
      },
      "source": [
        "model.save('my_model.h5')\n",
        "loaded_model = keras.models.load_model(\n",
        "    filepath='my_model.h5',\n",
        "    custom_objects={\n",
        "        'my_softplus': my_softplus,\n",
        "        'my_glorot_initializer': my_glorot_initializer,\n",
        "        'MyL1Regularizer': MyL1Regularizer,\n",
        "        'my_positive_weights': my_positive_weights,\n",
        "        'HuberLoss': HuberLoss\n",
        "    }\n",
        ")"
      ],
      "execution_count": null,
      "outputs": []
    },
    {
      "cell_type": "markdown",
      "metadata": {
        "id": "bKhTJSKkEuau",
        "colab_type": "text"
      },
      "source": [
        "### Custom metrics"
      ]
    },
    {
      "cell_type": "markdown",
      "metadata": {
        "id": "4g6sNs59E2TL",
        "colab_type": "text"
      },
      "source": [
        "#### What's streaming metric?"
      ]
    },
    {
      "cell_type": "code",
      "metadata": {
        "id": "ogqQfxaQEzCC",
        "colab_type": "code",
        "colab": {
          "base_uri": "https://localhost:8080/",
          "height": 36
        },
        "outputId": "bd17fc0b-1e53-480c-f8fd-b8e0a5700063"
      },
      "source": [
        "precision = keras.metrics.Precision()\n",
        "precision([0, 1, 1, 1, 0, 1, 0, 1], [1, 1, 0, 1, 0, 1, 0, 1]) # 0.8 in this batch"
      ],
      "execution_count": null,
      "outputs": [
        {
          "output_type": "execute_result",
          "data": {
            "text/plain": [
              "<tf.Tensor: shape=(), dtype=float32, numpy=0.8>"
            ]
          },
          "metadata": {
            "tags": []
          },
          "execution_count": 86
        }
      ]
    },
    {
      "cell_type": "code",
      "metadata": {
        "id": "3DjcybsRFHJK",
        "colab_type": "code",
        "colab": {
          "base_uri": "https://localhost:8080/",
          "height": 36
        },
        "outputId": "44d37e8e-59eb-43a3-bb64-f1d11ec3dc0b"
      },
      "source": [
        "precision([0, 1, 0, 0, 1, 0, 1, 1], [1, 0, 1, 1, 0, 0, 0, 0]) # 0.5 over ALL batches (2 until now)"
      ],
      "execution_count": null,
      "outputs": [
        {
          "output_type": "execute_result",
          "data": {
            "text/plain": [
              "<tf.Tensor: shape=(), dtype=float32, numpy=0.5>"
            ]
          },
          "metadata": {
            "tags": []
          },
          "execution_count": 87
        }
      ]
    },
    {
      "cell_type": "code",
      "metadata": {
        "id": "wFWRRMlzFRSj",
        "colab_type": "code",
        "colab": {
          "base_uri": "https://localhost:8080/",
          "height": 36
        },
        "outputId": "45d470e4-4832-4287-dd7a-03cc580dd5e6"
      },
      "source": [
        "precision.result() # Last precision"
      ],
      "execution_count": null,
      "outputs": [
        {
          "output_type": "execute_result",
          "data": {
            "text/plain": [
              "<tf.Tensor: shape=(), dtype=float32, numpy=0.5>"
            ]
          },
          "metadata": {
            "tags": []
          },
          "execution_count": 88
        }
      ]
    },
    {
      "cell_type": "code",
      "metadata": {
        "id": "51OCzDIhFcxO",
        "colab_type": "code",
        "colab": {
          "base_uri": "https://localhost:8080/",
          "height": 55
        },
        "outputId": "158ee3fe-1334-4072-beea-9a54d56597f3"
      },
      "source": [
        "precision.variables # Tracking necessary variables for result"
      ],
      "execution_count": null,
      "outputs": [
        {
          "output_type": "execute_result",
          "data": {
            "text/plain": [
              "[<tf.Variable 'true_positives:0' shape=(1,) dtype=float32, numpy=array([4.], dtype=float32)>,\n",
              " <tf.Variable 'false_positives:0' shape=(1,) dtype=float32, numpy=array([4.], dtype=float32)>]"
            ]
          },
          "metadata": {
            "tags": []
          },
          "execution_count": 91
        }
      ]
    },
    {
      "cell_type": "code",
      "metadata": {
        "id": "BuQwMci-FpJB",
        "colab_type": "code",
        "colab": {
          "base_uri": "https://localhost:8080/",
          "height": 75
        },
        "outputId": "763caea6-0e98-48c1-9f71-204a56a3a13a"
      },
      "source": [
        "precision.reset_states()\n",
        "print(precision.variables)\n",
        "print(precision.result())"
      ],
      "execution_count": null,
      "outputs": [
        {
          "output_type": "stream",
          "text": [
            "[<tf.Variable 'true_positives:0' shape=(1,) dtype=float32, numpy=array([0.], dtype=float32)>, <tf.Variable 'false_positives:0' shape=(1,) dtype=float32, numpy=array([0.], dtype=float32)>]\n",
            "tf.Tensor(0.0, shape=(), dtype=float32)\n"
          ],
          "name": "stdout"
        }
      ]
    },
    {
      "cell_type": "markdown",
      "metadata": {
        "id": "t4rDAYEKE-88",
        "colab_type": "text"
      },
      "source": [
        "#### Custom streaming metric"
      ]
    },
    {
      "cell_type": "code",
      "metadata": {
        "id": "HEbi_DXcFBas",
        "colab_type": "code",
        "colab": {}
      },
      "source": [
        "class HuberMetric(keras.metrics.Metric):\n",
        "    def __init__(self, threshold=1.0, **kwargs):\n",
        "        super().__init__(**kwargs)\n",
        "        self.threshold = threshold\n",
        "        self.total = self.add_weight('total', initializer='zeros')\n",
        "        self.count = self.add_weight('count', initializer='zeros')\n",
        "        \n",
        "    def huber_fn(self, y_true, y_pred):\n",
        "        error = y_true - y_pred\n",
        "        abs_error = tf.abs(error)\n",
        "        is_small_error = abs_error <= self.threshold\n",
        "        squared_loss = tf.square(error) / 2\n",
        "        linear_loss = self.threshold * abs_error - self.threshold**2 / 2\n",
        "\n",
        "        return tf.where(is_small_error, squared_loss, linear_loss)\n",
        "\n",
        "    def update_state(self, y_true, y_pred):\n",
        "        metric = self.huber_fn(y_true, y_pred)\n",
        "        self.total.assign_add(tf.reduce_sum(metric))\n",
        "        self.count.assign_add(tf.cast(tf.size(y_true), tf.float32))\n",
        "    \n",
        "    def result(self):\n",
        "        return self.total / self.count\n",
        "\n",
        "    def get_config(self):\n",
        "        base_config = super().get_config()\n",
        "        return {\n",
        "            **base_config,\n",
        "            'threshold': self.threshold\n",
        "        }"
      ],
      "execution_count": null,
      "outputs": []
    },
    {
      "cell_type": "code",
      "metadata": {
        "id": "nuUbOIB6IICm",
        "colab_type": "code",
        "colab": {}
      },
      "source": [
        "# Better implemented Huber metric\n",
        "class HuberMetric2(keras.metrics.Mean):\n",
        "    def __init__(self, threshold=1.0, name='HuberMetric', dtype=None):\n",
        "        self.threshold = threshold\n",
        "        self.huber_fn = create_huber(threshold)\n",
        "        super().__init__(name=name, dtype=dtype)\n",
        "\n",
        "    def huber_fn(self, y_true, y_pred):\n",
        "        error = y_true - y_pred\n",
        "        abs_error = tf.abs(error)\n",
        "        is_small_error = abs_error <= self.threshold\n",
        "        squared_loss = tf.square(error) / 2\n",
        "        linear_loss = self.threshold * abs_error - self.threshold**2 / 2\n",
        "\n",
        "        return tf.where(is_small_error, squared_loss, linear_loss)\n",
        "\n",
        "    def update_state(self, y_true, y_pred, sample_weight=None):\n",
        "        metric = self.huber_fn(y_true, y_pred)\n",
        "        super(HuberMetric, self).update_state(metric, sample_weight)\n",
        "\n",
        "    def get_config(self):\n",
        "        base_config = super().get_config()\n",
        "        return {**base_config, \"threshold\": self.threshold}"
      ],
      "execution_count": null,
      "outputs": []
    },
    {
      "cell_type": "markdown",
      "metadata": {
        "id": "9iaF3LVTOzNv",
        "colab_type": "text"
      },
      "source": [
        "### Custom Layers"
      ]
    },
    {
      "cell_type": "markdown",
      "metadata": {
        "id": "66NEJSv3O1RQ",
        "colab_type": "text"
      },
      "source": [
        "#### Lamda (without weights)"
      ]
    },
    {
      "cell_type": "code",
      "metadata": {
        "id": "R3uK-1g-MUbB",
        "colab_type": "code",
        "colab": {}
      },
      "source": [
        "exponential_layer = keras.layers.Lambda(lambda x: tf.exp(x))\n",
        "\n",
        "# Equal than:\n",
        "# - activation=tf.exp\n",
        "# - activation=keras.activations.exponential\n",
        "# - activation='exponential'"
      ],
      "execution_count": null,
      "outputs": []
    },
    {
      "cell_type": "markdown",
      "metadata": {
        "id": "_0VlEVyQPWqB",
        "colab_type": "text"
      },
      "source": [
        "#### Layer"
      ]
    },
    {
      "cell_type": "markdown",
      "metadata": {
        "id": "OWGg9y0Ehl_s",
        "colab_type": "text"
      },
      "source": [
        "##### With weights"
      ]
    },
    {
      "cell_type": "code",
      "metadata": {
        "id": "NY1MqdqzPWK3",
        "colab_type": "code",
        "colab": {}
      },
      "source": [
        "class MyDense(keras.layers.Layer):\n",
        "    def __init__(self, units, activation=None, **kwargs):\n",
        "        super().__init__(**kwargs)\n",
        "        self.units = units\n",
        "        self.activation = activation\n",
        "\n",
        "\n",
        "    def build(self, batch_input_shape):\n",
        "        self.kernel = self.add_weight(\n",
        "            name='kernel',\n",
        "            shape=[batch_input_shape[-1], self.units],\n",
        "            initializer='glorot_normal'\n",
        "        )\n",
        "        self.bias = self.add_weight(\n",
        "            name='bias',\n",
        "            shape=[self.units],\n",
        "            initializer='zeros'\n",
        "        )\n",
        "        super().build(batch_input_shape) # At the end\n",
        "\n",
        "    def call(self, X):\n",
        "        return self.activation(X @ self.kernel + bias)\n",
        "\n",
        "    def compute_output_shape(self, batch_input_shape):\n",
        "        return tf.TensorShape(batch_input_shape.as_list()[:-1] + [self.units])\n",
        "\n",
        "    def get_config(self):\n",
        "        base_config = super().get_config()\n",
        "        return {\n",
        "            **base_config,\n",
        "            'units': self.units,\n",
        "            'activation': keras.activations.serialize(self.activation)\n",
        "        }"
      ],
      "execution_count": null,
      "outputs": []
    },
    {
      "cell_type": "markdown",
      "metadata": {
        "id": "JelkEdtJhtm_",
        "colab_type": "text"
      },
      "source": [
        "##### Different behavior in training"
      ]
    },
    {
      "cell_type": "code",
      "metadata": {
        "id": "ugbNLuw_iSYJ",
        "colab_type": "code",
        "colab": {}
      },
      "source": [
        "class MyGaussianNoise(keras.layers.Layer):\n",
        "    def __init__(self, stddev, **kwargs):\n",
        "        super().__init__(**kwargs)\n",
        "        self.stddev = stddev\n",
        "\n",
        "    def call(self, X, training=None):\n",
        "        if training:\n",
        "            noise = tf.random.normal(t.shape(X), stddev=self.stddev)\n",
        "            return X + noise\n",
        "        else:\n",
        "            return X\n",
        "\n",
        "    def compute_output_shape(self, batch_input_shape):\n",
        "        return batch_input_shape\n",
        "\n",
        "    def get_config(self):\n",
        "        base_config = super().get_config()\n",
        "        return {\n",
        "            **base_config,\n",
        "            'stddev': self.stddev\n",
        "        }"
      ],
      "execution_count": null,
      "outputs": []
    },
    {
      "cell_type": "markdown",
      "metadata": {
        "id": "VPqkybSbjrUt",
        "colab_type": "text"
      },
      "source": [
        "### Custom Models"
      ]
    },
    {
      "cell_type": "code",
      "metadata": {
        "id": "jHCUgEicjjSu",
        "colab_type": "code",
        "colab": {}
      },
      "source": [
        "class ResidualBlock(keras.layers.Layer):\n",
        "    def __init__(self, n_layers, n_neurons, **kwargs):\n",
        "        super().__init__(**kwargs)\n",
        "        self.hidden = [\n",
        "            keras.layers.Dense(\n",
        "                units=n_neurons,\n",
        "                activation='elu',\n",
        "                kernel_initializer='he_normal'\n",
        "            )\n",
        "            for _ in range(n_layers)\n",
        "        ]\n",
        "\n",
        "    def call(self, inputs):\n",
        "        Z = inputs\n",
        "        for layer in self.hidden:\n",
        "            Z = layer(Z)\n",
        "\n",
        "        return inputs + Z\n",
        "\n",
        "class ResidualRegressor(keras.Model):\n",
        "    def __init__(self, output_dim, **kwargs):\n",
        "        super().__init__(**kwargs)\n",
        "\n",
        "        self.hidden1 = keras.layers.Dense(\n",
        "            units=30,\n",
        "            activation='elu',\n",
        "            kernel_initializer='he_normal'\n",
        "        )\n",
        "\n",
        "        self.block1 = ResidualBlock(2, 30)\n",
        "        self.block2 = ResidualBlock(2, 30)\n",
        "        self.out = keras.layers.Dense(output_dim)\n",
        "\n",
        "    def call(self, inputs):\n",
        "        Z = self.hidden1(inputs)\n",
        "        for _ in range(3 + 1):\n",
        "            Z = self.block1(Z)\n",
        "        Z = self.block2(Z)\n",
        "        return self.out(Z)"
      ],
      "execution_count": null,
      "outputs": []
    },
    {
      "cell_type": "code",
      "metadata": {
        "id": "A0d48eM61JSI",
        "colab_type": "code",
        "colab": {
          "base_uri": "https://localhost:8080/",
          "height": 245
        },
        "outputId": "5a0ef09f-9be3-49d2-dcb2-56b82d3ef548"
      },
      "source": [
        "keras.backend.clear_session()\n",
        "np.random.seed(42)\n",
        "tf.random.set_seed(42)\n",
        "\n",
        "model = ResidualRegressor(1)\n",
        "model.compile(loss=\"mse\", optimizer=\"nadam\")\n",
        "history = model.fit(\n",
        "    x=X_train_scaled,\n",
        "    y=y_train,\n",
        "    validation_data=(X_valid_scaled, y_valid),\n",
        "    epochs=5,\n",
        "    callbacks=[early_stopping_cb]\n",
        ")\n",
        "print(model.evaluate(X_test_scaled, y_test))"
      ],
      "execution_count": null,
      "outputs": [
        {
          "output_type": "stream",
          "text": [
            "Epoch 1/5\n",
            "363/363 [==============================] - 1s 2ms/step - loss: 9.1324 - val_loss: 7.6931\n",
            "Epoch 2/5\n",
            "363/363 [==============================] - 1s 2ms/step - loss: 1.0578 - val_loss: 9.1102\n",
            "Epoch 3/5\n",
            "363/363 [==============================] - 1s 2ms/step - loss: 0.8866 - val_loss: 6.7251\n",
            "Epoch 4/5\n",
            "363/363 [==============================] - 1s 2ms/step - loss: 0.5842 - val_loss: 43.5477\n",
            "Epoch 5/5\n",
            "363/363 [==============================] - 1s 2ms/step - loss: 0.6448 - val_loss: 45.7233\n",
            "162/162 [==============================] - 0s 967us/step - loss: 0.6481\n",
            "0.6480705142021179\n"
          ],
          "name": "stdout"
        }
      ]
    },
    {
      "cell_type": "markdown",
      "metadata": {
        "id": "FYlCUrfzfAyB",
        "colab_type": "text"
      },
      "source": [
        "## Autodiff"
      ]
    },
    {
      "cell_type": "markdown",
      "metadata": {
        "id": "WE4aCwuNt1nM",
        "colab_type": "text"
      },
      "source": [
        "### Gradients"
      ]
    },
    {
      "cell_type": "code",
      "metadata": {
        "id": "ts2UwOfRfCnU",
        "colab_type": "code",
        "colab": {
          "base_uri": "https://localhost:8080/",
          "height": 55
        },
        "outputId": "de1549e4-3464-4ba8-b8da-3166ae32cf4e"
      },
      "source": [
        "def f(w1, w2):\n",
        "    return 3 * w1**2 + 2 * w1 * w2\n",
        "\n",
        "w1 = tf.Variable(5.)\n",
        "w2 = tf.Variable(3.)\n",
        "with tf.GradientTape() as tape:\n",
        "    z = f(w1, w2)\n",
        "\n",
        "gradients = tape.gradient(z, [w1, w2]) # Just .gradient()\n",
        "gradients"
      ],
      "execution_count": null,
      "outputs": [
        {
          "output_type": "execute_result",
          "data": {
            "text/plain": [
              "[<tf.Tensor: shape=(), dtype=float32, numpy=36.0>,\n",
              " <tf.Tensor: shape=(), dtype=float32, numpy=10.0>]"
            ]
          },
          "metadata": {
            "tags": []
          },
          "execution_count": 70
        }
      ]
    },
    {
      "cell_type": "code",
      "metadata": {
        "id": "vwVaYvJMgHua",
        "colab_type": "code",
        "colab": {
          "base_uri": "https://localhost:8080/",
          "height": 55
        },
        "outputId": "f330b1b6-b0ba-4554-9184-e6775dbc1361"
      },
      "source": [
        "w1 = tf.Variable(5.)\n",
        "w2 = tf.Variable(3.)\n",
        "\n",
        "with tf.GradientTape(persistent=True) as tape:\n",
        "    z = f(w1, w2)\n",
        "\n",
        "gradients_w1 = tape.gradient(z, w1)\n",
        "gradients_w2 = tape.gradient(z, w2)\n",
        "del tape\n",
        "\n",
        "gradients_w1, gradients_w2"
      ],
      "execution_count": null,
      "outputs": [
        {
          "output_type": "execute_result",
          "data": {
            "text/plain": [
              "(<tf.Tensor: shape=(), dtype=float32, numpy=36.0>,\n",
              " <tf.Tensor: shape=(), dtype=float32, numpy=10.0>)"
            ]
          },
          "metadata": {
            "tags": []
          },
          "execution_count": 72
        }
      ]
    },
    {
      "cell_type": "code",
      "metadata": {
        "id": "r-Z1Vyp_mXLb",
        "colab_type": "code",
        "colab": {
          "base_uri": "https://localhost:8080/",
          "height": 55
        },
        "outputId": "3ba226cb-0a45-44b6-9afd-333526e5003d"
      },
      "source": [
        "c1, c2 = tf.constant(5.), tf.constant(3.)\n",
        "with tf.GradientTape() as tape:\n",
        "    tape.watch(c1) # Now you can use .gradient with this constant\n",
        "    tape.watch(c2)\n",
        "    z = f(c1, c2)\n",
        "\n",
        "gradients = tape.gradient(z, [c1, c2]) # Just .gradient()\n",
        "gradients"
      ],
      "execution_count": null,
      "outputs": [
        {
          "output_type": "execute_result",
          "data": {
            "text/plain": [
              "[<tf.Tensor: shape=(), dtype=float32, numpy=36.0>,\n",
              " <tf.Tensor: shape=(), dtype=float32, numpy=10.0>]"
            ]
          },
          "metadata": {
            "tags": []
          },
          "execution_count": 82
        }
      ]
    },
    {
      "cell_type": "markdown",
      "metadata": {
        "id": "AuxJBeUnt3iH",
        "colab_type": "text"
      },
      "source": [
        "### Custom Gradients"
      ]
    },
    {
      "cell_type": "code",
      "metadata": {
        "id": "MCh9dIHit5Ka",
        "colab_type": "code",
        "colab": {
          "base_uri": "https://localhost:8080/",
          "height": 36
        },
        "outputId": "b9f79622-cd7b-4a84-fbcc-46183ee18d85"
      },
      "source": [
        "w1 = tf.Variable(100.0)\n",
        "with tf.GradientTape() as tape:\n",
        "    Z = tf.math.log(1.0 + tf.exp(w1)) # softplus\n",
        "\n",
        "tape.gradient(Z, w1) # Nan because is too big"
      ],
      "execution_count": null,
      "outputs": [
        {
          "output_type": "execute_result",
          "data": {
            "text/plain": [
              "<tf.Tensor: shape=(), dtype=float32, numpy=nan>"
            ]
          },
          "metadata": {
            "tags": []
          },
          "execution_count": 92
        }
      ]
    },
    {
      "cell_type": "code",
      "metadata": {
        "id": "aD-5-hHho8P1",
        "colab_type": "code",
        "colab": {
          "base_uri": "https://localhost:8080/",
          "height": 36
        },
        "outputId": "9eaaac07-04b6-40c6-9458-c6654bc92b1a"
      },
      "source": [
        "@tf.custom_gradient\n",
        "def my_better_softplus(Z):\n",
        "    exp = tf.exp(Z)\n",
        "\n",
        "    def my_softplus_gradients(grad):\n",
        "        return grad / (1 + 1 / exp)\n",
        "\n",
        "    return tf.math.log(exp + 1), my_softplus_gradients\n",
        "\n",
        "w1 = tf.Variable(100.0)\n",
        "with tf.GradientTape() as tape:\n",
        "    Z = my_better_softplus(w1) # softplus\n",
        "\n",
        "tape.gradient(Z, w1)"
      ],
      "execution_count": null,
      "outputs": [
        {
          "output_type": "execute_result",
          "data": {
            "text/plain": [
              "<tf.Tensor: shape=(), dtype=float32, numpy=1.0>"
            ]
          },
          "metadata": {
            "tags": []
          },
          "execution_count": 103
        }
      ]
    },
    {
      "cell_type": "markdown",
      "metadata": {
        "id": "HoODNyNXxsEu",
        "colab_type": "text"
      },
      "source": [
        "## Custom Training Loops"
      ]
    },
    {
      "cell_type": "code",
      "metadata": {
        "id": "0Sl8Gh6_vAF8",
        "colab_type": "code",
        "colab": {}
      },
      "source": [
        "# Model\n",
        "l2_reg = keras.regularizers.l2(0.05)\n",
        "model = keras.models.Sequential([\n",
        "    keras.layers.Dense(\n",
        "        units=30,\n",
        "        activation='elu',\n",
        "        kernel_initializer='he_normal',\n",
        "        kernel_regularizer=l2_reg\n",
        "    ),\n",
        "    keras.layers.Dense(1, kernel_regularizer=l2_reg)\n",
        "])\n",
        "\n",
        "# Utils\n",
        "def random_batch(X, y, batch_size=32):\n",
        "    idx = np.random.randint(len(X), size=batch_size)\n",
        "\n",
        "    return X[idx], y[idx]\n",
        "\n",
        "def progress_bar(iteration, total, size=30):\n",
        "    running = iteration < total\n",
        "    c = '>' if running else '='\n",
        "    p = (size - 1) * iteration // total\n",
        "    fmt = '{{:-{}d}}/{{}} [{{}}]'.format(len(str(total)))\n",
        "    params = [iteration, total, '=' * p + c + '.' * (size - p - 1)]\n",
        "    return fmt.format(*params)\n",
        "\n",
        "def print_status_bar(iter, total, loss, metrics=None):\n",
        "    metrics = metrics or []\n",
        "    metrics = ' - '.join([\n",
        "        f'{m.name}: {round(float(m.result()), 4)}'\n",
        "        for m in [loss] + metrics\n",
        "    ])\n",
        "    end = '' if iter < total else '\\n'\n",
        "\n",
        "    print(f'\\r{progress_bar(iter, total)} - {metrics} - ' + metrics, end=end)\n",
        "    "
      ],
      "execution_count": null,
      "outputs": []
    },
    {
      "cell_type": "code",
      "metadata": {
        "id": "QrPcDcKj16Wy",
        "colab_type": "code",
        "colab": {}
      },
      "source": [
        "keras.backend.clear_session()\n",
        "np.random.seed(42)\n",
        "tf.random.set_seed(42)\n",
        "\n",
        "n_epochs = 5\n",
        "batch_size = 32\n",
        "n_steps = len(X_train) // batch_size\n",
        "optimizer = keras.optimizers.Nadam(lr=0.01)\n",
        "loss_fn = keras.losses.mean_squared_error\n",
        "mean_loss = keras.metrics.Mean()\n",
        "metrics = [keras.metrics.MeanAbsoluteError()]"
      ],
      "execution_count": null,
      "outputs": []
    },
    {
      "cell_type": "code",
      "metadata": {
        "id": "bs7bnXxn2xC6",
        "colab_type": "code",
        "colab": {
          "base_uri": "https://localhost:8080/",
          "height": 207
        },
        "outputId": "7b4a48bc-e9c7-4767-c699-da3d18978e1a"
      },
      "source": [
        "for epoch in range(1, n_epochs + 1):\n",
        "    print(f'Epoch {epoch}/{n_epochs}')\n",
        "    for step in range(1, n_steps + 1):\n",
        "        X_batch, y_batch = random_batch(\n",
        "            X_train_scaled.astype('float32'),\n",
        "            y_train.astype('float32'), batch_size\n",
        "        )\n",
        "\n",
        "        with tf.GradientTape() as tape:\n",
        "            y_pred = model(X_batch, training=True)\n",
        "            main_loss = tf.reduce_mean(loss_fn(y_batch, y_pred))\n",
        "            loss = tf.add_n([main_loss] + model.losses)\n",
        "        \n",
        "        gradients = tape.gradient(loss, model.trainable_variables)\n",
        "        optimizer.apply_gradients(zip(gradients, model.trainable_variables))\n",
        "\n",
        "        for variable in model.trainable_variables:\n",
        "            if variable.constraint is not None:\n",
        "                variable.assign(variabel.constraint(variable))\n",
        "\n",
        "        mean_loss(loss)\n",
        "\n",
        "        for metric in metrics:\n",
        "            metric(y_batch, y_pred)\n",
        "\n",
        "        print_status_bar(step * batch_size, len(y_train), mean_loss, metrics)\n",
        "    \n",
        "    print_status_bar(len(y_train), len(y_train), mean_loss, metrics)\n",
        "\n",
        "    for metric in [mean_loss] + metrics:\n",
        "        metric.reset_states()"
      ],
      "execution_count": null,
      "outputs": [
        {
          "output_type": "stream",
          "text": [
            "Epoch 1/5\n",
            "11610/11610 [==============================] - mean: 1.3955 - mean_absolute_error: 0.5722 - mean: 1.3955 - mean_absolute_error: 0.5722\n",
            "Epoch 2/5\n",
            "11610/11610 [==============================] - mean: 0.6774 - mean_absolute_error: 0.528 - mean: 0.6774 - mean_absolute_error: 0.528\n",
            "Epoch 3/5\n",
            "11610/11610 [==============================] - mean: 0.6351 - mean_absolute_error: 0.5177 - mean: 0.6351 - mean_absolute_error: 0.5177\n",
            "Epoch 4/5\n",
            "11610/11610 [==============================] - mean: 0.6384 - mean_absolute_error: 0.5181 - mean: 0.6384 - mean_absolute_error: 0.5181\n",
            "Epoch 5/5\n",
            "11610/11610 [==============================] - mean: 0.644 - mean_absolute_error: 0.5222 - mean: 0.644 - mean_absolute_error: 0.5222\n"
          ],
          "name": "stdout"
        }
      ]
    },
    {
      "cell_type": "markdown",
      "metadata": {
        "id": "5izbSNVwxT7I",
        "colab_type": "text"
      },
      "source": [
        "## Graphs and Functions"
      ]
    },
    {
      "cell_type": "code",
      "metadata": {
        "id": "wXcm0DOy8XCw",
        "colab_type": "code",
        "colab": {
          "base_uri": "https://localhost:8080/",
          "height": 55
        },
        "outputId": "a55aff60-6110-4f5b-9b1b-906f83e2e305"
      },
      "source": [
        "@tf.function\n",
        "def tf_cube(x):\n",
        "    return x ** 3\n",
        "\n",
        "print(tf_cube(2))\n",
        "print(tf_cube.python_function(2))"
      ],
      "execution_count": 29,
      "outputs": [
        {
          "output_type": "stream",
          "text": [
            "tf.Tensor(8, shape=(), dtype=int32)\n",
            "8\n"
          ],
          "name": "stdout"
        }
      ]
    },
    {
      "cell_type": "code",
      "metadata": {
        "id": "28e046Rl2FG1",
        "colab_type": "code",
        "colab": {
          "base_uri": "https://localhost:8080/",
          "height": 265
        },
        "outputId": "487a100d-bf5f-498a-b0d6-bb43486a45b4"
      },
      "source": [
        "print(tf.autograph.to_code(tf_cube.python_function))"
      ],
      "execution_count": 36,
      "outputs": [
        {
          "output_type": "stream",
          "text": [
            "def tf__tf_cube(x):\n",
            "    with ag__.FunctionScope('tf_cube', 'fscope', ag__.ConversionOptions(recursive=True, user_requested=True, optional_features=(), internal_convert_user_code=True)) as fscope:\n",
            "        do_return = False\n",
            "        retval_ = ag__.UndefinedReturnValue()\n",
            "        try:\n",
            "            do_return = True\n",
            "            retval_ = (ag__.ld(x) ** 3)\n",
            "        except:\n",
            "            do_return = False\n",
            "            raise\n",
            "        return fscope.ret(retval_, do_return)\n",
            "\n"
          ],
          "name": "stdout"
        }
      ]
    },
    {
      "cell_type": "markdown",
      "metadata": {
        "id": "rfBxoU5__0rX",
        "colab_type": "text"
      },
      "source": [
        "## Exercises"
      ]
    },
    {
      "cell_type": "markdown",
      "metadata": {
        "id": "mR3WN3fh_4lf",
        "colab_type": "text"
      },
      "source": [
        "### Custom Layer Normalization"
      ]
    },
    {
      "cell_type": "code",
      "metadata": {
        "id": "Tc9nGwVx_2eb",
        "colab_type": "code",
        "colab": {}
      },
      "source": [
        "class MyLayerNormalization(keras.layers.Layer):\n",
        "\n",
        "    def __init__(self, epsilon=1e-3, **kwargs):\n",
        "        super().__init__(**kwargs)\n",
        "        self.epsilon = epsilon\n",
        "\n",
        "    def build(self, batch_input_shape):\n",
        "        self.alpha = self.add_weight(\n",
        "            name='alpha',\n",
        "            shape=batch_input_shape[-1:],\n",
        "            dtype=tf.float32,\n",
        "            initializer='ones'\n",
        "        )\n",
        "        self.beta = self.add_weight(\n",
        "            name='beta',\n",
        "            shape=batch_input_shape[-1:],\n",
        "            dtype=tf.float32,\n",
        "            initializer='zeros'\n",
        "        )\n",
        "        super().build(batch_input_shape)\n",
        "\n",
        "    def call(self, inputs):\n",
        "        means, variances = tf.nn.moments(inputs, axes=-1, keepdims=True)\n",
        "        # sqrt(0) derivative don't exist\n",
        "        stddevs = tf.sqrt(variances + self.epsilon)\n",
        "\n",
        "        normal = (inputs - means) / stddevs\n",
        "        result = self.alpha * normal  + self.beta\n",
        "\n",
        "        return result\n",
        "\n",
        "    def compute_output_shape(self, batch_input_shape):\n",
        "        return batch_input_shape\n",
        "\n",
        "    def get_config(self):\n",
        "        base_config = super().get_config()\n",
        "        return {\n",
        "            **base_config,\n",
        "            'epsilon': self.epsilon\n",
        "        }\n",
        "\n",
        "my_normal = MyLayerNormalization()\n",
        "normal = keras.layers.LayerNormalization()\n",
        "\n",
        "X = tf.constant([\n",
        "    [1, 2, 3, 4],\n",
        "    [10, 20, 50, 100]\n",
        "], dtype=tf.float32)\n",
        "\n",
        "assert tf.reduce_sum(my_normal(X) - normal(X)) < 1e-6"
      ],
      "execution_count": 74,
      "outputs": []
    },
    {
      "cell_type": "markdown",
      "metadata": {
        "id": "En8-197dMYP8",
        "colab_type": "text"
      },
      "source": [
        "### Custom train loop"
      ]
    },
    {
      "cell_type": "markdown",
      "metadata": {
        "id": "K0k8eN8auss6",
        "colab_type": "text"
      },
      "source": [
        "#### Normal loop"
      ]
    },
    {
      "cell_type": "code",
      "metadata": {
        "id": "CkoLkzLAFk8E",
        "colab_type": "code",
        "colab": {
          "base_uri": "https://localhost:8080/",
          "height": 283
        },
        "outputId": "1e38b99d-9bfe-4ba1-bd20-824fe49cbb50"
      },
      "source": [
        "from tqdm.notebook import trange\n",
        "from collections import OrderedDict, defaultdict\n",
        "\n",
        "(X_train_full, y_train_full), (X_test, y_test) = keras.datasets.fashion_mnist.load_data()\n",
        "X_train_full = X_train_full.astype(np.float32) / 255.\n",
        "X_valid, X_train = X_train_full[:5000], X_train_full[5000:]\n",
        "y_valid, y_train = y_train_full[:5000], y_train_full[5000:]\n",
        "X_test = X_test.astype(np.float32) / 255.\n",
        "\n",
        "keras.backend.clear_session()\n",
        "np.random.seed(42)\n",
        "tf.random.set_seed(42)\n",
        "\n",
        "model = keras.models.Sequential([\n",
        "    keras.layers.Flatten(input_shape=[28, 28]),\n",
        "    keras.layers.Dense(100, activation=\"relu\"),\n",
        "    keras.layers.Dense(10, activation=\"softmax\"),\n",
        "])\n",
        "\n",
        "# Utils\n",
        "def random_batch(X, y, batch_size=32):\n",
        "    idx = np.random.randint(len(X), size=batch_size)\n",
        "\n",
        "    return X[idx], y[idx]\n",
        "\n",
        "model.summary()"
      ],
      "execution_count": 219,
      "outputs": [
        {
          "output_type": "stream",
          "text": [
            "Model: \"sequential\"\n",
            "_________________________________________________________________\n",
            "Layer (type)                 Output Shape              Param #   \n",
            "=================================================================\n",
            "flatten (Flatten)            (None, 784)               0         \n",
            "_________________________________________________________________\n",
            "dense (Dense)                (None, 100)               78500     \n",
            "_________________________________________________________________\n",
            "dense_1 (Dense)              (None, 10)                1010      \n",
            "=================================================================\n",
            "Total params: 79,510\n",
            "Trainable params: 79,510\n",
            "Non-trainable params: 0\n",
            "_________________________________________________________________\n"
          ],
          "name": "stdout"
        }
      ]
    },
    {
      "cell_type": "code",
      "metadata": {
        "id": "ek14ZO8hLgf9",
        "colab_type": "code",
        "colab": {}
      },
      "source": [
        "n_epochs = 10\n",
        "batch_size = 32\n",
        "n_steps = len(X_train) // batch_size\n",
        "optimizer = keras.optimizers.Nadam(learning_rate=0.01)\n",
        "loss_fn = keras.losses.sparse_categorical_crossentropy\n",
        "mean_loss = keras.metrics.Mean(name='loss')\n",
        "metrics = [keras.metrics.SparseCategoricalAccuracy(name='accuracy')]\n",
        "history = defaultdict(list)\n",
        "\n",
        "with trange(1, n_epochs + 1, desc='All epochs') as epochs:\n",
        "    for epoch in epochs:\n",
        "        with trange(1, n_steps + 1, desc=f'Epoch {epoch}/{n_epochs}') as steps:\n",
        "            print(len(history['loss']))\n",
        "            for step in steps:\n",
        "                X_batch, y_batch = random_batch(X_train, y_train)\n",
        "                with tf.autodiff.GradientTape() as tape:\n",
        "                    y_pred = model(X_batch, training=True)\n",
        "                    main_loss = tf.reduce_mean(loss_fn(y_batch, y_pred))\n",
        "                    loss = tf.add_n([main_loss] + model.losses)\n",
        "                gradients = tape.gradient(loss, model.trainable_variables)\n",
        "                optimizer.apply_gradients(zip(gradients, model.trainable_variables))\n",
        "\n",
        "                for variable in model.variables:\n",
        "                    if variable.constraint is not None:\n",
        "                        variable.assign(variable.constraint(variable))\n",
        "\n",
        "                status = OrderedDict()\n",
        "                for metric in metrics:\n",
        "                    metric(y_batch, y_pred)\n",
        "                    status[metric.name] = metric.result().numpy()\n",
        "\n",
        "                steps.set_postfix(status)\n",
        "            \n",
        "            y_pred = model(X_valid)\n",
        "            val_loss = loss_fn(y_valid, y_pred)\n",
        "            val_accuracy = keras.metrics.sparse_categorical_accuracy(\n",
        "                y_valid,\n",
        "                y_pred\n",
        "            )\n",
        "            val_loss = tf.reduce_mean(val_loss).numpy()\n",
        "            val_accuracy = tf.reduce_mean(val_accuracy).numpy()\n",
        "            status['val_loss'] = val_loss\n",
        "            status['val_accuracy'] = val_accuracy\n",
        "            steps.set_postfix(status)\n",
        "\n",
        "            # History\n",
        "            history['val_loss'].append(val_loss)\n",
        "            history['val_accuracy'].append(val_accuracy)\n",
        "\n",
        "            for metric in metrics + [mean_loss]:\n",
        "                # History\n",
        "                history[metric.name].append(metric.result().numpy())\n",
        "\n",
        "                # Reset\n",
        "                metric.reset_states()"
      ],
      "execution_count": null,
      "outputs": []
    },
    {
      "cell_type": "code",
      "metadata": {
        "id": "eyyj36sOUyus",
        "colab_type": "code",
        "colab": {
          "base_uri": "https://localhost:8080/",
          "height": 390
        },
        "outputId": "a146c1c4-7929-4226-9609-012135a96abc"
      },
      "source": [
        "import matplotlib.pyplot as plt\n",
        "\n",
        "fig, (ax1, ax2) = plt.subplots(1, 2, figsize=(12, 6))\n",
        "\n",
        "plt.sca(ax1)\n",
        "plt.title('Loss')\n",
        "plt.plot(history['loss'], label='Train')\n",
        "plt.plot(history['val_loss'], label='Val')\n",
        "plt.legend()\n",
        "\n",
        "plt.sca(ax2)\n",
        "plt.title('Accuracy')\n",
        "plt.plot(history['accuracy'], label='Train')\n",
        "plt.plot(history['val_accuracy'], label='Val')\n",
        "plt.legend()\n",
        "\n",
        "plt.show()"
      ],
      "execution_count": 221,
      "outputs": [
        {
          "output_type": "display_data",
          "data": {
            "image/png": "[encoded data removed]",
            "text/plain": [
              "<Figure size 864x432 with 2 Axes>"
            ]
          },
          "metadata": {
            "tags": [],
            "needs_background": "light"
          }
        }
      ]
    },
    {
      "cell_type": "markdown",
      "metadata": {
        "id": "ObMMZ2ZUuw3s",
        "colab_type": "text"
      },
      "source": [
        "#### Two optimizers"
      ]
    },
    {
      "cell_type": "code",
      "metadata": {
        "id": "YaGfE9qumoFv",
        "colab_type": "code",
        "colab": {}
      },
      "source": [
        "keras.backend.clear_session()\n",
        "np.random.seed(42)\n",
        "tf.random.set_seed(42)\n",
        "\n",
        "\n",
        "lower_layers = keras.models.Sequential([\n",
        "    keras.layers.Flatten(input_shape=[28, 28]),\n",
        "    keras.layers.Dense(100, activation=\"relu\"),\n",
        "])\n",
        "upper_layers = keras.models.Sequential([\n",
        "    keras.layers.Dense(10, activation=\"softmax\")                       \n",
        "])\n",
        "model = keras.models.Sequential([\n",
        "    lower_layers, upper_layers\n",
        "])\n",
        "\n",
        "# Utils\n",
        "def random_batch(X, y, batch_size=32):\n",
        "    idx = np.random.randint(len(X), size=batch_size)\n",
        "\n",
        "    return X[idx], y[idx]\n",
        "\n",
        "\n",
        "# Train\n",
        "n_epochs = 10\n",
        "batch_size = 32\n",
        "n_steps = len(X_train) // batch_size\n",
        "lower_optimizer = keras.optimizers.SGD(learning_rate=1e-4)\n",
        "upper_optimizer = keras.optimizers.Nadam(learning_rate=1e-3)\n",
        "loss_fn = keras.losses.sparse_categorical_crossentropy\n",
        "mean_loss = keras.metrics.Mean(name='loss')\n",
        "metrics = [keras.metrics.SparseCategoricalAccuracy(name='accuracy')]\n",
        "history = defaultdict(list)\n",
        "\n",
        "with trange(1, n_epochs + 1, desc='All epochs') as epochs:\n",
        "    for epoch in epochs:\n",
        "        with trange(1, n_steps + 1, desc=f'Epoch {epoch}/{n_epochs}') as steps:\n",
        "            for step in steps:\n",
        "                X_batch, y_batch = random_batch(X_train, y_train)\n",
        "                with tf.autodiff.GradientTape(persistent=True) as tape:\n",
        "                    y_pred = model(X_batch, training=True)\n",
        "                    main_loss = tf.reduce_mean(loss_fn(y_batch, y_pred))\n",
        "                    loss = tf.add_n([main_loss] + model.losses)\n",
        "                \n",
        "                for layers, optimizer in ((lower_layers, lower_optimizer), (upper_layers, upper_optimizer)):\n",
        "                    gradients = tape.gradient(loss, layers.trainable_variables)\n",
        "                    optimizer.apply_gradients(zip(gradients, layers.trainable_variables))\n",
        "                del tape\n",
        "\n",
        "                for variable in model.variables:\n",
        "                    if variable.constraint is not None:\n",
        "                        variable.assign(variable.constraint(variable))\n",
        "\n",
        "                status = OrderedDict()\n",
        "                status['loss'] = mean_loss(loss).numpy()\n",
        "                for metric in metrics:\n",
        "                    metric(y_batch, y_pred)\n",
        "                    status[metric.name] = metric.result().numpy()\n",
        "\n",
        "                steps.set_postfix(status)\n",
        "            \n",
        "            y_pred = model(X_valid)\n",
        "            val_loss = loss_fn(y_valid, y_pred)\n",
        "            val_accuracy = keras.metrics.sparse_categorical_accuracy(\n",
        "                y_valid,\n",
        "                y_pred\n",
        "            )\n",
        "            val_loss = tf.reduce_mean(val_loss).numpy()\n",
        "            val_accuracy = tf.reduce_mean(val_accuracy).numpy()\n",
        "            status['val_loss'] = val_loss\n",
        "            status['val_accuracy'] = val_accuracy\n",
        "            steps.set_postfix(status)\n",
        "\n",
        "            # History\n",
        "            history['val_loss'].append(val_loss)\n",
        "            history['val_accuracy'].append(val_accuracy)\n",
        "\n",
        "            for metric in metrics + [mean_loss]:\n",
        "                # History\n",
        "                history[metric.name].append(metric.result().numpy())\n",
        "\n",
        "                # Reset\n",
        "                metric.reset_states()"
      ],
      "execution_count": null,
      "outputs": []
    },
    {
      "cell_type": "code",
      "metadata": {
        "id": "Y35CDLKmu-BN",
        "colab_type": "code",
        "colab": {
          "base_uri": "https://localhost:8080/",
          "height": 390
        },
        "outputId": "f1726538-a686-4e44-a3fa-bcdf73e8aab5"
      },
      "source": [
        "fig, (ax1, ax2) = plt.subplots(1, 2, figsize=(12, 6))\n",
        "\n",
        "plt.sca(ax1)\n",
        "plt.title('Loss')\n",
        "plt.plot(history['loss'], label='Train')\n",
        "plt.plot(history['val_loss'], label='Val')\n",
        "plt.legend()\n",
        "\n",
        "plt.sca(ax2)\n",
        "plt.title('Accuracy')\n",
        "plt.plot(history['accuracy'], label='Train')\n",
        "plt.plot(history['val_accuracy'], label='Val')\n",
        "plt.legend()\n",
        "\n",
        "plt.show()"
      ],
      "execution_count": 224,
      "outputs": [
        {
          "output_type": "display_data",
          "data": {
            "image/png": "[encoded data removed]",
            "text/plain": [
              "<Figure size 864x432 with 2 Axes>"
            ]
          },
          "metadata": {
            "tags": [],
            "needs_background": "light"
          }
        }
      ]
    },
    {
      "cell_type": "code",
      "metadata": {
        "id": "GTse1LcMxtyQ",
        "colab_type": "code",
        "colab": {}
      },
      "source": [
        ""
      ],
      "execution_count": null,
      "outputs": []
    }
  ]
}