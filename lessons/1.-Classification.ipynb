{
  "nbformat": 4,
  "nbformat_minor": 0,
  "metadata": {
    "colab": {
      "name": "ClassificationMLHandbook.ipynb",
      "provenance": [],
      "collapsed_sections": [],
      "authorship_tag": "ABX9TyMDXZeRpMCNstkuig1CflxB"
    },
    "kernelspec": {
      "name": "python3",
      "display_name": "Python 3"
    }
  },
  "cells": [
    {
      "cell_type": "code",
      "metadata": {
        "id": "OvyPA9gwmjXB",
        "colab_type": "code",
        "colab": {}
      },
      "source": [
        "from sklearn.datasets import fetch_openml\n",
        "import matplotlib.pyplot as plt\n",
        "import numpy as np\n",
        "import seaborn as sns"
      ],
      "execution_count": null,
      "outputs": []
    },
    {
      "cell_type": "code",
      "metadata": {
        "id": "OpRrzC0hmlD2",
        "colab_type": "code",
        "colab": {}
      },
      "source": [
        "mnist = fetch_openml('mnist_784', version=1)"
      ],
      "execution_count": null,
      "outputs": []
    },
    {
      "cell_type": "markdown",
      "metadata": {
        "id": "5ZLDojl-taV8",
        "colab_type": "text"
      },
      "source": [
        "## Data Prepare"
      ]
    },
    {
      "cell_type": "code",
      "metadata": {
        "id": "BS8a0v9ymte6",
        "colab_type": "code",
        "colab": {}
      },
      "source": [
        "X, y = mnist['data'], mnist['target']"
      ],
      "execution_count": null,
      "outputs": []
    },
    {
      "cell_type": "code",
      "metadata": {
        "id": "b92jpHMPrCuE",
        "colab_type": "code",
        "colab": {
          "base_uri": "https://localhost:8080/",
          "height": 284
        },
        "outputId": "bc6c8e2e-ebd7-49b0-8c1b-135a0e28311f"
      },
      "source": [
        "__index=0\n",
        "some_digit = X[__index]\n",
        "some_digit_image = some_digit.reshape(28, 28)\n",
        "plt.imshow(some_digit_image, cmap='binary')\n",
        "\n",
        "print(y[__index])\n",
        "plt.show()"
      ],
      "execution_count": null,
      "outputs": [
        {
          "output_type": "stream",
          "text": [
            "5\n"
          ],
          "name": "stdout"
        },
        {
          "output_type": "display_data",
          "data": {
            "image/png": "[encoded data removed]",
            "text/plain": [
              "<Figure size 432x288 with 1 Axes>"
            ]
          },
          "metadata": {
            "tags": [],
            "needs_background": "light"
          }
        }
      ]
    },
    {
      "cell_type": "code",
      "metadata": {
        "id": "Mgm6ZhNerjMn",
        "colab_type": "code",
        "colab": {}
      },
      "source": [
        "y = y.astype(np.int8)\n",
        "X_train, X_test, y_train, y_test = X[:60000], X[60000:], y[:60000], y[60000:]\n",
        "\n",
        "y_train_5 = (y_train == 5)\n",
        "y_test_5 = (y_test == 5)"
      ],
      "execution_count": null,
      "outputs": []
    },
    {
      "cell_type": "markdown",
      "metadata": {
        "id": "4QRW2dZZtc4E",
        "colab_type": "text"
      },
      "source": [
        "## Classifier"
      ]
    },
    {
      "cell_type": "code",
      "metadata": {
        "id": "LwzfQP8bszPi",
        "colab_type": "code",
        "colab": {}
      },
      "source": [
        "from sklearn.linear_model import SGDClassifier\n",
        "\n",
        "sgd_clf = SGDClassifier(random_state=42).fit(X_train, y_train_5)"
      ],
      "execution_count": null,
      "outputs": []
    },
    {
      "cell_type": "markdown",
      "metadata": {
        "id": "zjTsK74ht-L1",
        "colab_type": "text"
      },
      "source": [
        "### SGDClassifier"
      ]
    },
    {
      "cell_type": "code",
      "metadata": {
        "id": "uAkvMV1-t9Jo",
        "colab_type": "code",
        "colab": {}
      },
      "source": [
        "# Own Cross-Validation\n",
        "from sklearn.model_selection import StratifiedKFold\n",
        "from sklearn.base import clone\n",
        "\n",
        "scores = []\n",
        "skfolds = StratifiedKFold(n_splits=10, random_state=42, shuffle=True)\n",
        "for train_index, test_index in skfolds.split(X_train, y_train_5):\n",
        "    X_train_folds = X_train[train_index]\n",
        "    y_train_5_folds = y_train_5[train_index]\n",
        "\n",
        "    X_test_folds = X_train[test_index]\n",
        "    y_test_5_folds = y_train_5[test_index]\n",
        "\n",
        "    clone_clf = clone(sgd_clf).fit(X_train_folds, y_train_5_folds)\n",
        "    y_pred = clone_clf.predict(X_test_folds)\n",
        "    n_correct = np.sum(y_pred == y_test_5_folds)\n",
        "    acc = n_correct/len(y_pred)\n",
        "\n",
        "    print(acc)\n",
        "\n",
        "    scores.append(acc)"
      ],
      "execution_count": null,
      "outputs": []
    },
    {
      "cell_type": "code",
      "metadata": {
        "id": "ztyBlGGat6Qh",
        "colab_type": "code",
        "colab": {
          "base_uri": "https://localhost:8080/",
          "height": 36
        },
        "outputId": "f8b88108-0417-49c4-d316-140f979a6a8a"
      },
      "source": [
        "np.mean(scores), np.std(scores)"
      ],
      "execution_count": null,
      "outputs": [
        {
          "output_type": "execute_result",
          "data": {
            "text/plain": [
              "(0.9635666666666667, 0.0066654998978988005)"
            ]
          },
          "metadata": {
            "tags": []
          },
          "execution_count": 31
        }
      ]
    },
    {
      "cell_type": "code",
      "metadata": {
        "id": "J3o8AeG0zuLC",
        "colab_type": "code",
        "colab": {}
      },
      "source": [
        "# Cross-Validation\n",
        "from sklearn.model_selection import cross_val_score\n",
        "scores = cross_val_score(sgd_clf, X_train, y_train_5, scoring='accuracy', cv=3)\n",
        "scores"
      ],
      "execution_count": null,
      "outputs": []
    },
    {
      "cell_type": "markdown",
      "metadata": {
        "id": "pqYI7lZ12c07",
        "colab_type": "text"
      },
      "source": [
        "### Dumb custom clasifier"
      ]
    },
    {
      "cell_type": "code",
      "metadata": {
        "id": "bEPYHa2w1hcd",
        "colab_type": "code",
        "colab": {
          "base_uri": "https://localhost:8080/",
          "height": 36
        },
        "outputId": "1e9fe86c-b244-4199-e52a-62b23a9c0d9d"
      },
      "source": [
        "from sklearn.base import BaseEstimator, ClassifierMixin\n",
        "\n",
        "class Never5Classifier(BaseEstimator, ClassifierMixin):\n",
        "    def fit(self, X, y=None):\n",
        "        return self\n",
        "\n",
        "    def predict(self, X):\n",
        "        return np.zeros((len(X), 1), dtype=bool)\n",
        "\n",
        "scores = cross_val_score(Never5Classifier(), X_train, y_train_5, cv=3, scoring='accuracy')\n",
        "scores"
      ],
      "execution_count": null,
      "outputs": [
        {
          "output_type": "execute_result",
          "data": {
            "text/plain": [
              "array([0.90965, 0.90965, 0.90965])"
            ]
          },
          "metadata": {
            "tags": []
          },
          "execution_count": 10
        }
      ]
    },
    {
      "cell_type": "markdown",
      "metadata": {
        "id": "OJR72E5N7CSV",
        "colab_type": "text"
      },
      "source": [
        "### Confusion Matrix"
      ]
    },
    {
      "cell_type": "code",
      "metadata": {
        "id": "cwjJFV3C4MnR",
        "colab_type": "code",
        "colab": {}
      },
      "source": [
        "from sklearn.metrics import confusion_matrix\n",
        "from sklearn.model_selection import cross_val_predict\n",
        "\n",
        "y_train_5_pred = cross_val_predict(sgd_clf, X_train, y_train_5, cv=3)"
      ],
      "execution_count": null,
      "outputs": []
    },
    {
      "cell_type": "code",
      "metadata": {
        "id": "t91SEw_I7Qtl",
        "colab_type": "code",
        "colab": {
          "base_uri": "https://localhost:8080/",
          "height": 55
        },
        "outputId": "405be322-91d2-4fea-84ca-21a8d69cd650"
      },
      "source": [
        "confusion_matrix(y_train_5_pred, y_train_5)"
      ],
      "execution_count": null,
      "outputs": [
        {
          "output_type": "execute_result",
          "data": {
            "text/plain": [
              "array([[53892,  1891],\n",
              "       [  687,  3530]])"
            ]
          },
          "metadata": {
            "tags": []
          },
          "execution_count": 11
        }
      ]
    },
    {
      "cell_type": "code",
      "metadata": {
        "id": "n7A8wC4G7kY2",
        "colab_type": "code",
        "colab": {
          "base_uri": "https://localhost:8080/",
          "height": 36
        },
        "outputId": "65e19aa5-af1f-4ffd-a544-3738af14bf0d"
      },
      "source": [
        "from sklearn.metrics import precision_score, recall_score, f1_score\n",
        "\n",
        "precision_score(y_train_5, y_train_5_pred), recall_score(y_train_5, y_train_5_pred), f1_score(y_train_5, y_train_5_pred)"
      ],
      "execution_count": null,
      "outputs": [
        {
          "output_type": "execute_result",
          "data": {
            "text/plain": [
              "(0.8370879772350012, 0.6511713705958311, 0.7325171197343846)"
            ]
          },
          "metadata": {
            "tags": []
          },
          "execution_count": 12
        }
      ]
    },
    {
      "cell_type": "markdown",
      "metadata": {
        "id": "MiILoQS_VIU2",
        "colab_type": "text"
      },
      "source": [
        "### Precision-Recall curve"
      ]
    },
    {
      "cell_type": "code",
      "metadata": {
        "id": "Gw_h7GtRKaJE",
        "colab_type": "code",
        "colab": {
          "base_uri": "https://localhost:8080/",
          "height": 265
        },
        "outputId": "88271ebc-c5ab-475f-cd91-d438b22a1dd1"
      },
      "source": [
        "from sklearn.metrics import precision_recall_curve\n",
        "from sklearn.model_selection import cross_val_predict\n",
        "\n",
        "y_scores = cross_val_predict(sgd_clf, X_train, y_train_5, cv=3, method='decision_function')\n",
        "precisions, recalls, thresholds = precision_recall_curve(y_train_5, y_scores)\n",
        "\n",
        "def plot_precision_recall_vs_treshhold(precisions, recalls, thresholds):\n",
        "    plt.plot(thresholds, precisions[:-1], label='Precision')\n",
        "    plt.plot(thresholds, recalls[:-1], label='Recall')\n",
        "\n",
        "    plt.legend()\n",
        "\n",
        "    plt.show()\n",
        "\n",
        "plot_precision_recall_vs_treshhold(precisions, recalls, thresholds)"
      ],
      "execution_count": null,
      "outputs": [
        {
          "output_type": "display_data",
          "data": {
            "image/png": "[encoded data removed]",
            "text/plain": [
              "<Figure size 432x288 with 1 Axes>"
            ]
          },
          "metadata": {
            "tags": [],
            "needs_background": "light"
          }
        }
      ]
    },
    {
      "cell_type": "code",
      "metadata": {
        "id": "-HvPLtWyVxmA",
        "colab_type": "code",
        "colab": {
          "base_uri": "https://localhost:8080/",
          "height": 279
        },
        "outputId": "0373608e-7bb2-4df6-a64b-87fbb57f63c7"
      },
      "source": [
        "plt.plot(recalls, precisions)\n",
        "\n",
        "plt.xlabel('Recall')\n",
        "plt.ylabel('Precision')\n",
        "\n",
        "plt.show()"
      ],
      "execution_count": null,
      "outputs": [
        {
          "output_type": "display_data",
          "data": {
            "image/png": "[encoded data removed]",
            "text/plain": [
              "<Figure size 432x288 with 1 Axes>"
            ]
          },
          "metadata": {
            "tags": [],
            "needs_background": "light"
          }
        }
      ]
    },
    {
      "cell_type": "code",
      "metadata": {
        "id": "AJ4-pQLWW0V8",
        "colab_type": "code",
        "colab": {
          "base_uri": "https://localhost:8080/",
          "height": 36
        },
        "outputId": "c22de583-1891-470d-e04d-961791b10d3d"
      },
      "source": [
        "threshold_90_precision = thresholds[np.argmax(precisions >= 0.90)]\n",
        "threshold_90_precision"
      ],
      "execution_count": null,
      "outputs": [
        {
          "output_type": "execute_result",
          "data": {
            "text/plain": [
              "3370.0194991439557"
            ]
          },
          "metadata": {
            "tags": []
          },
          "execution_count": 34
        }
      ]
    },
    {
      "cell_type": "code",
      "metadata": {
        "id": "fmFYfIfHW3ri",
        "colab_type": "code",
        "colab": {
          "base_uri": "https://localhost:8080/",
          "height": 36
        },
        "outputId": "4199ca16-382b-40dd-85e6-9572eb608c33"
      },
      "source": [
        "y_train_pred_90 = (y_scores >= threshold_90_precision)\n",
        "precision_score(y_train_5, y_train_pred_90), recall_score(y_train_5, y_train_pred_90)"
      ],
      "execution_count": null,
      "outputs": [
        {
          "output_type": "execute_result",
          "data": {
            "text/plain": [
              "(0.9000345901072293, 0.4799852425751706)"
            ]
          },
          "metadata": {
            "tags": []
          },
          "execution_count": 35
        }
      ]
    },
    {
      "cell_type": "markdown",
      "metadata": {
        "id": "NWfHnBAienq-",
        "colab_type": "text"
      },
      "source": [
        "### ROC curve"
      ]
    },
    {
      "cell_type": "code",
      "metadata": {
        "id": "tUKNkXvyemoo",
        "colab_type": "code",
        "colab": {
          "base_uri": "https://localhost:8080/",
          "height": 279
        },
        "outputId": "3571437c-e95b-42f3-acd2-0bf5b8f41bb9"
      },
      "source": [
        "from sklearn.metrics import roc_curve\n",
        "\n",
        "fpr, tpr, thresholds = roc_curve(y_train_5, y_scores)\n",
        "\n",
        "def plot_roc_curve(fpr, tpr):\n",
        "    plt.plot(fpr, tpr)\n",
        "    plt.plot([0, 1], [0, 1], 'k--')\n",
        "\n",
        "    plt.xlabel('False Postive rate')\n",
        "    plt.ylabel('True Postive rate (recall)')\n",
        "\n",
        "plot_roc_curve(fpr, tpr)\n",
        "plt.show()"
      ],
      "execution_count": null,
      "outputs": [
        {
          "output_type": "display_data",
          "data": {
            "image/png": "[encoded data removed]",
            "text/plain": [
              "<Figure size 432x288 with 1 Axes>"
            ]
          },
          "metadata": {
            "tags": [],
            "needs_background": "light"
          }
        }
      ]
    },
    {
      "cell_type": "code",
      "metadata": {
        "id": "GiERgCDnaOzF",
        "colab_type": "code",
        "colab": {
          "base_uri": "https://localhost:8080/",
          "height": 36
        },
        "outputId": "37fab6cd-fbf6-4870-d09f-6f447a3f94d5"
      },
      "source": [
        "from sklearn.metrics import roc_auc_score\n",
        "\n",
        "roc_auc_score(y_train_5, y_scores) # Near 1 is better"
      ],
      "execution_count": null,
      "outputs": [
        {
          "output_type": "execute_result",
          "data": {
            "text/plain": [
              "0.9604938554008616"
            ]
          },
          "metadata": {
            "tags": []
          },
          "execution_count": 46
        }
      ]
    },
    {
      "cell_type": "markdown",
      "metadata": {
        "id": "NjffB8Dth3KV",
        "colab_type": "text"
      },
      "source": [
        "### Compare ROC curve anr ROC AUC score"
      ]
    },
    {
      "cell_type": "code",
      "metadata": {
        "id": "ODyFKaMmhID4",
        "colab_type": "code",
        "colab": {}
      },
      "source": [
        "from sklearn.ensemble import RandomForestClassifier\n",
        "\n",
        "forest_clf = RandomForestClassifier(random_state=42)\n",
        "y_probas_forest = cross_val_predict(forest_clf, X_train, y_train_5, cv=3, method='predict_proba')"
      ],
      "execution_count": null,
      "outputs": []
    },
    {
      "cell_type": "code",
      "metadata": {
        "id": "Q5YRNzfFia2j",
        "colab_type": "code",
        "colab": {
          "base_uri": "https://localhost:8080/",
          "height": 279
        },
        "outputId": "e5432cec-a45b-48ee-d590-00844639cb8b"
      },
      "source": [
        "y_scores_forest = y_probas_forest[:, 1] # Probability of positive class\n",
        "fpr, tpr, thresholds = roc_curve(y_train_5, y_scores_forest)\n",
        "\n",
        "plot_roc_curve(fpr, tpr)\n",
        "plt.show()"
      ],
      "execution_count": null,
      "outputs": [
        {
          "output_type": "display_data",
          "data": {
            "image/png": "[encoded data removed]",
            "text/plain": [
              "<Figure size 432x288 with 1 Axes>"
            ]
          },
          "metadata": {
            "tags": [],
            "needs_background": "light"
          }
        }
      ]
    },
    {
      "cell_type": "code",
      "metadata": {
        "id": "1_r4CiDXikbi",
        "colab_type": "code",
        "colab": {
          "base_uri": "https://localhost:8080/",
          "height": 36
        },
        "outputId": "0754f3b7-b8c9-4639-9729-4d5c9b726e3a"
      },
      "source": [
        "roc_auc_score(y_train_5, y_scores_forest)"
      ],
      "execution_count": null,
      "outputs": [
        {
          "output_type": "execute_result",
          "data": {
            "text/plain": [
              "0.9983436731328145"
            ]
          },
          "metadata": {
            "tags": []
          },
          "execution_count": 55
        }
      ]
    },
    {
      "cell_type": "markdown",
      "metadata": {
        "id": "CPos7iNXN0YD",
        "colab_type": "text"
      },
      "source": [
        "## Multiclass Classifier"
      ]
    },
    {
      "cell_type": "code",
      "metadata": {
        "id": "QvtJFxqhj7fT",
        "colab_type": "code",
        "colab": {}
      },
      "source": [
        "from sklearn.svm import SVC\n",
        "\n",
        "svm_clf = SVC()\n",
        "svm_clf.fit(X_train, y_train)\n",
        "svm_clf.predict([some_digit])"
      ],
      "execution_count": null,
      "outputs": []
    },
    {
      "cell_type": "code",
      "metadata": {
        "id": "JUbLwWXfU3hw",
        "colab_type": "code",
        "colab": {}
      },
      "source": [
        "# One Vs Rest Classifier\n",
        "from sklearn.multiclass import OneVsRestClassifier\n",
        "\n",
        "ovr_clf = OneVsRestClassifier(SVC())\n",
        "ovr_clf.fit(X_train, y_train)"
      ],
      "execution_count": null,
      "outputs": []
    },
    {
      "cell_type": "code",
      "metadata": {
        "id": "7OibHveEbsBO",
        "colab_type": "code",
        "colab": {}
      },
      "source": [
        "from sklearn.preprocessing import StandardScaler\n",
        "from sklearn.model_selection import cross_val_score\n",
        "\n",
        "scaler = StandardScaler()\n",
        "X_train_scaled = scaler.fit_transform(X_train.astype(np.float64))\n",
        "# cross_val_score(svm_clf, X_train_scaled, y_train, cv=3, scoring='accuracy')"
      ],
      "execution_count": null,
      "outputs": []
    },
    {
      "cell_type": "markdown",
      "metadata": {
        "id": "ob-iXPmg4Nw4",
        "colab_type": "text"
      },
      "source": [
        "## Multilabel Classification"
      ]
    },
    {
      "cell_type": "code",
      "metadata": {
        "id": "3JyenyuCx5d1",
        "colab_type": "code",
        "colab": {}
      },
      "source": [
        "from sklearn.neighbors import KNeighborsClassifier\n",
        "\n",
        "y_train_large = (y_train >= 7)\n",
        "y_train_odd = (y_train % 2 == 1)\n",
        "y_multilabel = np.c_[y_train_large, y_train_odd]"
      ],
      "execution_count": null,
      "outputs": []
    },
    {
      "cell_type": "code",
      "metadata": {
        "id": "2E45_1lK4_o2",
        "colab_type": "code",
        "colab": {}
      },
      "source": [
        "knn_clf = KNeighborsClassifier().fit(X_train, y_multilabel)"
      ],
      "execution_count": null,
      "outputs": []
    },
    {
      "cell_type": "code",
      "metadata": {
        "id": "6j8x6HaO53HQ",
        "colab_type": "code",
        "colab": {}
      },
      "source": [
        "from sklearn.model_selection import cross_val_predict\n",
        "y_train_knn_pred = cross_val_predict(knn_clf, X_train, y_multilabel, cv=3, n_jobs=-1)"
      ],
      "execution_count": null,
      "outputs": []
    }
  ]
}